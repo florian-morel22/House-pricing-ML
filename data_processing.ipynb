{
 "cells": [
  {
   "cell_type": "code",
   "execution_count": 3,
   "metadata": {},
   "outputs": [
    {
     "name": "stderr",
     "output_type": "stream",
     "text": [
      "c:\\Users\\fmore\\anaconda3\\envs\\envnestedai\\Lib\\site-packages\\tqdm\\auto.py:21: TqdmWarning: IProgress not found. Please update jupyter and ipywidgets. See https://ipywidgets.readthedocs.io/en/stable/user_install.html\n",
      "  from .autonotebook import tqdm as notebook_tqdm\n"
     ]
    }
   ],
   "source": [
    "import cv2\n",
    "import torch\n",
    "import numpy as np\n",
    "import pandas as pd\n",
    "import seaborn as sns\n",
    "import matplotlib.pyplot as plt\n",
    "\n",
    "from tqdm import tqdm\n",
    "from PIL import Image\n",
    "from pathlib import Path\n",
    "from torchvision.transforms import v2\n",
    "\n",
    "from sklearn.preprocessing import OneHotEncoder\n",
    "\n",
    "from transformers import pipeline\n",
    "from accelerate.test_utils.testing import get_backend\n",
    "from transformers import ConvNextImageProcessor, ConvNextForImageClassification, AutoImageProcessor, AutoModel, ResNetModel"
   ]
  },
  {
   "cell_type": "code",
   "execution_count": 4,
   "metadata": {},
   "outputs": [],
   "source": [
    "dataset_path = Path(\"./Houses-dataset/Houses Dataset\")\n",
    "txt_dataset_path = dataset_path / \"HousesInfo.txt\"\n",
    "uszip_path = Path(\"./data/uszips/uszips.csv\")\n",
    "out_folder = Path(\"./data/processed_text_data\")"
   ]
  },
  {
   "cell_type": "code",
   "execution_count": 5,
   "metadata": {},
   "outputs": [],
   "source": [
    "columns_name = [\"Number of Bedrooms\", \"Number of bathrooms\", \"Area\", \"Zipcode\", \"Price\"]\n",
    "structured_df = pd.read_csv(txt_dataset_path, sep=' ', names=columns_name)"
   ]
  },
  {
   "cell_type": "markdown",
   "metadata": {},
   "source": [
    "## Image Concatenation"
   ]
  },
  {
   "cell_type": "markdown",
   "metadata": {},
   "source": [
    "Concatenation of the fourth images to create a single one for each house"
   ]
  },
  {
   "cell_type": "markdown",
   "metadata": {},
   "source": [
    "### With Black background"
   ]
  },
  {
   "cell_type": "code",
   "execution_count": 8,
   "metadata": {},
   "outputs": [],
   "source": [
    "out_folder = Path(\"./data/concatenated_images\")\n",
    "Path.mkdir(out_folder, parents=True, exist_ok=True)"
   ]
  },
  {
   "cell_type": "code",
   "execution_count": 9,
   "metadata": {},
   "outputs": [],
   "source": [
    "def pad_image(image, target_width, target_height):\n",
    "        padded_image = Image.new(\"RGB\", (target_width, target_height), (0, 0, 0))  # Black background\n",
    "        x_offset = (target_width - image.width) // 2\n",
    "        y_offset = (target_height - image.height) // 2\n",
    "        padded_image.paste(image, (x_offset, y_offset))\n",
    "        return padded_image"
   ]
  },
  {
   "cell_type": "code",
   "execution_count": 10,
   "metadata": {},
   "outputs": [],
   "source": [
    "def concatenate_imgs(images: list[Image]) -> Image:\n",
    "\n",
    "    max_width = max(image.width for image in images)\n",
    "    max_height = max(image.height for image in images)\n",
    "    \n",
    "    padded_images = [pad_image(img, max_width, max_height) for img in images]\n",
    "\n",
    "    new_width = max_width * 2\n",
    "    new_height = max_height * 2\n",
    "    new_image = Image.new(\"RGB\", (new_width, new_height), (0, 0, 0))  # Add a black background\n",
    "\n",
    "    new_image.paste(padded_images[0], (0, 0))  # Top-left\n",
    "    new_image.paste(padded_images[1], (max_width, 0))  # Top-right\n",
    "    new_image.paste(padded_images[2], (0, max_height))  # Bottom-left\n",
    "    new_image.paste(padded_images[3], (max_width, max_height))  # Bottom-right\n",
    "\n",
    "    return new_image\n",
    "\n"
   ]
  },
  {
   "cell_type": "code",
   "execution_count": 11,
   "metadata": {},
   "outputs": [],
   "source": [
    "for idx in structured_df.index:\n",
    "\n",
    "    idx_ = idx+1\n",
    "\n",
    "    bathroom = Image.open(dataset_path / f\"{idx_}_bathroom.jpg\")\n",
    "    bedroom = Image.open(dataset_path / f\"{idx_}_bedroom.jpg\")\n",
    "    frontal = Image.open(dataset_path / f\"{idx_}_frontal.jpg\")\n",
    "    kitchen = Image.open(dataset_path / f\"{idx_}_kitchen.jpg\")\n",
    "\n",
    "    images = [bathroom, bedroom, frontal, kitchen]\n",
    "\n",
    "    new_image = concatenate_imgs(images)\n",
    "\n",
    "    new_image.save(out_folder / f\"{idx+1}_house.jpg\")"
   ]
  },
  {
   "cell_type": "markdown",
   "metadata": {},
   "source": [
    "### Without BlackBackground"
   ]
  },
  {
   "cell_type": "markdown",
   "metadata": {},
   "source": [
    "The 4 images are resized by 224x224 pixels and concatenated in a square of 448x448"
   ]
  },
  {
   "cell_type": "code",
   "execution_count": 7,
   "metadata": {},
   "outputs": [],
   "source": [
    "out_folder = Path(\"./data/concatenated_images_224px\")\n",
    "Path.mkdir(out_folder, parents=True, exist_ok=True)"
   ]
  },
  {
   "cell_type": "code",
   "execution_count": 8,
   "metadata": {},
   "outputs": [],
   "source": [
    "def concatenate_imgs(images: list[Image], size: int=224) -> Image:\n",
    "    \"\"\"\n",
    "    images : list of the 4th images of 1 house\n",
    "    size : length of 1 side of resized image\n",
    "    \n",
    "    \"\"\"\n",
    "\n",
    "    resized_images = [image.resize((size, size)) for image in images]\n",
    "\n",
    "    new_image = Image.new(\"RGB\", (size*2, size*2))\n",
    "\n",
    "    new_image.paste(resized_images[0], (0, 0))  # Top-left\n",
    "    new_image.paste(resized_images[1], (size, 0))  # Top-right\n",
    "    new_image.paste(resized_images[2], (0, size))  # Bottom-left\n",
    "    new_image.paste(resized_images[3], (size, size))  # Bottom-right\n",
    "\n",
    "    return new_image"
   ]
  },
  {
   "cell_type": "code",
   "execution_count": 9,
   "metadata": {},
   "outputs": [],
   "source": [
    "for idx in structured_df.index:\n",
    "\n",
    "    idx_ = idx+1\n",
    "\n",
    "    bathroom = Image.open(dataset_path / f\"{idx_}_bathroom.jpg\")\n",
    "    bedroom = Image.open(dataset_path / f\"{idx_}_bedroom.jpg\")\n",
    "    frontal = Image.open(dataset_path / f\"{idx_}_frontal.jpg\")\n",
    "    kitchen = Image.open(dataset_path / f\"{idx_}_kitchen.jpg\")\n",
    "\n",
    "    images = [bathroom, bedroom, frontal, kitchen]\n",
    "\n",
    "    new_image = concatenate_imgs(images)\n",
    "\n",
    "\n",
    "    # new_image.save(out_folder / f\"{idx+1}_house.jpg\") # Augmentated data\n",
    "    new_image.save(out_folder / f\"{idx_}_house.jpg\")"
   ]
  },
  {
   "cell_type": "markdown",
   "metadata": {},
   "source": [
    "## Image Data Augmentation"
   ]
  },
  {
   "cell_type": "code",
   "execution_count": null,
   "metadata": {},
   "outputs": [],
   "source": [
    "out_folder = Path(\"./data/concatenated_augm_images\")\n",
    "Path.mkdir(out_folder, parents=True, exist_ok=True)"
   ]
  },
  {
   "cell_type": "code",
   "execution_count": null,
   "metadata": {},
   "outputs": [],
   "source": [
    "transform = v2.Compose([\n",
    "    # Spatial augmentations\n",
    "    v2.RandomHorizontalFlip(p=1),  # Horizontal flip with 50% chance\n",
    "    v2.RandomRotation(degrees=10),   # Random rotation within ±10 degrees\n",
    "    v2.RandomAffine(degrees=0, translate=(0.1, 0.1)),  # Random translation\n",
    "    # v2.RandomResizedCrop(size=(224, 224), scale=(0.8, 1.0)),  # Random crop and resize\n",
    "    v2.Lambda(lambda x: random_resized_crop(x, min_scale=0.9, max_scale=1.1)),  # Custom resizing function\n",
    "\n",
    "    # Color augmentations\n",
    "    v2.ColorJitter(brightness=0.2, contrast=0.2, saturation=0.2, hue=0.1),  # Random color adjustments\n",
    "\n",
    "    # Noise augmentation (adding Gaussian noise)\n",
    "    v2.Lambda(lambda x: add_gaussian_noise(x))  # Custom function to add noise\n",
    "])\n",
    "\n",
    "# Custom function to add Gaussian noise\n",
    "def add_gaussian_noise(image: Image, mean: float=0, std: float=0.05):\n",
    "    \"\"\"\n",
    "        Add a gaussian noise to disturb colors of the image.\n",
    "    \"\"\"\n",
    "    \n",
    "    np_image = np.array(image)  # Convert PIL image to numpy array\n",
    "    noise = np.random.normal(mean, std, np_image.shape)  # Add Gaussian noise\n",
    "    noisy_image = np.clip(np_image + noise * 255, 0, 255).astype(np.uint8)\n",
    "    return Image.fromarray(noisy_image)\n",
    "\n",
    "def random_resized_crop(image: Image, min_scale: float=0.9, max_scale: float=1.1):\n",
    "    \"\"\"\n",
    "        Resize the image with scale +- 10% of the original size. Then crop borders.\n",
    "    \"\"\"\n",
    "    width, height = image.size\n",
    "    scale_factor = np.random.uniform(min_scale, max_scale)\n",
    "    new_width = int(width * scale_factor)\n",
    "    new_height = int(height * scale_factor)\n",
    "    return image.resize((new_width, new_height), Image.BILINEAR)"
   ]
  },
  {
   "cell_type": "code",
   "execution_count": null,
   "metadata": {},
   "outputs": [],
   "source": [
    "for idx in structured_df.index:\n",
    "\n",
    "    idx_ = idx+1\n",
    "\n",
    "    places = [\"bathroom\", \"bedroom\", \"frontal\", \"kitchen\"]\n",
    "\n",
    "    src_imgs = [Image.open(dataset_path / f\"{idx_}_{place}.jpg\") for place in places]\n",
    "    transformed_imgs = [transform(img) for img in src_imgs]\n",
    "\n",
    "    mask = np.random.choice([0, 1], size=4)\n",
    "\n",
    "    house1 = []\n",
    "    house2 = []\n",
    "\n",
    "    for p in range(len(places)):\n",
    "        if mask[p] == 1:\n",
    "            house1.append(src_imgs[p])\n",
    "            house2.append(transformed_imgs[p])\n",
    "        else:\n",
    "            house1.append(transformed_imgs[p])\n",
    "            house2.append(src_imgs[p])\n",
    "\n",
    "    house1_concat = concatenate_imgs(house1)\n",
    "    house2_concat = concatenate_imgs(house2)\n",
    "\n",
    "    house1_concat.save(out_folder / f\"{idx_}_1-house.jpg\")\n",
    "    house2_concat.save(out_folder / f\"{idx_}_2-house.jpg\")\n"
   ]
  },
  {
   "cell_type": "markdown",
   "metadata": {},
   "source": [
    "## Image Feature Extraction"
   ]
  },
  {
   "cell_type": "markdown",
   "metadata": {},
   "source": [
    "Extract features from the images and save it into a csv file."
   ]
  },
  {
   "cell_type": "markdown",
   "metadata": {},
   "source": [
    "### With concatenated images"
   ]
  },
  {
   "cell_type": "markdown",
   "metadata": {},
   "source": [
    "The four images of a single house have previously been concatenated to form a single image"
   ]
  },
  {
   "cell_type": "code",
   "execution_count": 4,
   "metadata": {},
   "outputs": [],
   "source": [
    "img_dataset_path = Path(\"./data/concatenated_images_224px\")\n",
    "features_dataset_out_folder = Path(\"./data\")\n",
    "\n",
    "image = Image.open(img_dataset_path / \"1_house.jpg\")\n",
    "image.show()"
   ]
  },
  {
   "cell_type": "markdown",
   "metadata": {},
   "source": [
    "#### ResNet"
   ]
  },
  {
   "cell_type": "code",
   "execution_count": 71,
   "metadata": {},
   "outputs": [],
   "source": [
    "model_name = \"microsoft/resnet-50\"\n",
    "\n",
    "processor = AutoImageProcessor.from_pretrained(model_name)\n",
    "model = ResNetModel.from_pretrained(model_name)"
   ]
  },
  {
   "cell_type": "code",
   "execution_count": 38,
   "metadata": {},
   "outputs": [
    {
     "name": "stderr",
     "output_type": "stream",
     "text": [
      "535it [01:33,  5.70it/s]\n"
     ]
    }
   ],
   "source": [
    "features_list = {}\n",
    "\n",
    "for img_path in tqdm(img_dataset_path.iterdir()):\n",
    "    img_name = Path(img_path).stem\n",
    "    image = Image.open(img_path)\n",
    "\n",
    "    inputs = processor(images=image, return_tensors=\"pt\")\n",
    "    outputs = model(**inputs)\n",
    "\n",
    "    features = outputs.pooler_output.detach().numpy().flatten().tolist()\n",
    "\n",
    "    # features_list[img_name.replace(\"-house\", \"\")] = features # Augmentated Images\n",
    "    features_list[int(img_name.replace(\"_house\", \"\"))-1] = features # Augmentated Images"
   ]
  },
  {
   "cell_type": "code",
   "execution_count": 39,
   "metadata": {},
   "outputs": [],
   "source": [
    "features_df = pd.DataFrame.from_dict(features_list, orient='index', columns=[f\"feature_{i+1}\" for i in range(len(features_list[next(iter(features_list))]))])"
   ]
  },
  {
   "cell_type": "code",
   "execution_count": 42,
   "metadata": {},
   "outputs": [],
   "source": [
    "df_name = \"img_features_dataset_resnet50.csv\"\n",
    "\n",
    "features_df.to_csv(features_dataset_out_folder / df_name, index=True)"
   ]
  },
  {
   "cell_type": "markdown",
   "metadata": {},
   "source": [
    "#### DinoV2"
   ]
  },
  {
   "cell_type": "code",
   "execution_count": 5,
   "metadata": {},
   "outputs": [],
   "source": [
    "model_name = 'facebook/dinov2-small'\n",
    "\n",
    "processor = AutoImageProcessor.from_pretrained(model_name)\n",
    "model = AutoModel.from_pretrained(model_name)"
   ]
  },
  {
   "cell_type": "code",
   "execution_count": 6,
   "metadata": {},
   "outputs": [
    {
     "name": "stderr",
     "output_type": "stream",
     "text": [
      "535it [01:22,  6.48it/s]\n"
     ]
    }
   ],
   "source": [
    "features_list = {}\n",
    "\n",
    "for img_path in tqdm(img_dataset_path.iterdir()):\n",
    "    img_name = Path(img_path).stem\n",
    "    image = Image.open(img_path)\n",
    "\n",
    "    inputs = processor(images=image, return_tensors=\"pt\")\n",
    "    outputs = model(**inputs)\n",
    "\n",
    "    features_list[int(img_name.replace(\"_house\", \"\"))] = outputs.pooler_output.detach().numpy()[0].tolist()\n",
    "    "
   ]
  },
  {
   "cell_type": "code",
   "execution_count": 7,
   "metadata": {},
   "outputs": [],
   "source": [
    "nb_features = len(features_list[next(iter(features_list))])\n",
    "features_df = pd.DataFrame.from_dict(features_list, orient='index', columns=[f\"feature_{i+1}\" for i in range(nb_features)])"
   ]
  },
  {
   "cell_type": "code",
   "execution_count": 8,
   "metadata": {},
   "outputs": [],
   "source": [
    "df_name = \"img_224px_features_dataset_dinoV2_small.csv\"\n",
    "\n",
    "features_df.to_csv(features_dataset_out_folder / df_name, index=True)"
   ]
  },
  {
   "cell_type": "markdown",
   "metadata": {},
   "source": [
    "#### vit-base-patch16-384"
   ]
  },
  {
   "cell_type": "code",
   "execution_count": null,
   "metadata": {},
   "outputs": [
    {
     "name": "stderr",
     "output_type": "stream",
     "text": [
      "No model was supplied, defaulted to google/vit-base-patch16-224 and revision 3f49326 (https://huggingface.co/google/vit-base-patch16-224).\n",
      "Using a pipeline without specifying a model name and revision in production is not recommended.\n"
     ]
    },
    {
     "name": "stdout",
     "output_type": "stream",
     "text": [
      "WARNING:tensorflow:From c:\\Users\\fmore\\anaconda3\\envs\\envnestedai\\Lib\\site-packages\\tf_keras\\src\\losses.py:2976: The name tf.losses.sparse_softmax_cross_entropy is deprecated. Please use tf.compat.v1.losses.sparse_softmax_cross_entropy instead.\n",
      "\n"
     ]
    },
    {
     "name": "stderr",
     "output_type": "stream",
     "text": [
      "Some weights of ViTModel were not initialized from the model checkpoint at google/vit-base-patch16-224 and are newly initialized: ['vit.pooler.dense.bias', 'vit.pooler.dense.weight']\n",
      "You should probably TRAIN this model on a down-stream task to be able to use it for predictions and inference.\n",
      "Fast image processor class <class 'transformers.models.vit.image_processing_vit_fast.ViTImageProcessorFast'> is available for this model. Using slow image processor class. To use the fast image processor class set `use_fast=True`.\n",
      "Device set to use cpu\n"
     ]
    }
   ],
   "source": [
    "model_name=\"google/vit-base-patch16-384\"\n",
    "DEVICE, _, _ = get_backend()\n",
    "\n",
    "pipe = pipeline(task=\"image-feature-extraction\", model_name=model_name, device=DEVICE, pool=True)"
   ]
  },
  {
   "cell_type": "code",
   "execution_count": null,
   "metadata": {},
   "outputs": [],
   "source": [
    "imgs = [Image.open(path) for path in img_dataset_path.iterdir()]"
   ]
  },
  {
   "cell_type": "code",
   "execution_count": 20,
   "metadata": {},
   "outputs": [],
   "source": [
    "outputs = pipe(imgs)"
   ]
  },
  {
   "cell_type": "code",
   "execution_count": 26,
   "metadata": {},
   "outputs": [
    {
     "data": {
      "text/plain": [
       "(535, 768)"
      ]
     },
     "execution_count": 26,
     "metadata": {},
     "output_type": "execute_result"
    }
   ],
   "source": [
    "np.array(outputs).squeeze(axis=1).shape"
   ]
  },
  {
   "cell_type": "code",
   "execution_count": null,
   "metadata": {},
   "outputs": [],
   "source": [
    "features_df = pd.DataFrame(\n",
    "    np.array(outputs).squeeze(axis=1),\n",
    "    columns=[f\"feature_{i+1}\" for i in range(np.array(outputs).shape[2])]\n",
    ")"
   ]
  },
  {
   "cell_type": "code",
   "execution_count": 30,
   "metadata": {},
   "outputs": [],
   "source": [
    "df_name = \"img_features_dataset_vit-base-patch16-384.csv\"\n",
    "\n",
    "features_df.to_csv(features_dataset_out_folder / df_name, index=True)"
   ]
  },
  {
   "cell_type": "markdown",
   "metadata": {},
   "source": [
    "### With Non concatenated images"
   ]
  },
  {
   "cell_type": "markdown",
   "metadata": {},
   "source": [
    "Features are extracted from each of the 4 images for a single house. The result vectors are then concatenated."
   ]
  },
  {
   "cell_type": "code",
   "execution_count": 4,
   "metadata": {},
   "outputs": [],
   "source": [
    "img_dataset_path = Path(\"./Houses-dataset/Houses Dataset\")\n",
    "features_dataset_out_folder = Path(\"./data\")\n",
    "\n",
    "image = Image.open(img_dataset_path / \"1_bathroom.jpg\")"
   ]
  },
  {
   "cell_type": "markdown",
   "metadata": {},
   "source": [
    "#### Dino V2"
   ]
  },
  {
   "cell_type": "code",
   "execution_count": 5,
   "metadata": {},
   "outputs": [],
   "source": [
    "model_name = 'facebook/dinov2-small'\n",
    "\n",
    "processor = AutoImageProcessor.from_pretrained(model_name)\n",
    "model = AutoModel.from_pretrained(model_name)"
   ]
  },
  {
   "cell_type": "code",
   "execution_count": 6,
   "metadata": {},
   "outputs": [
    {
     "name": "stderr",
     "output_type": "stream",
     "text": [
      "2141it [06:03,  5.89it/s]\n"
     ]
    }
   ],
   "source": [
    "features_list = {}\n",
    "\n",
    "for img_path in tqdm(img_dataset_path.iterdir()):\n",
    "\n",
    "    if img_path.suffix != \".jpg\":\n",
    "        continue\n",
    "\n",
    "    img_name = Path(img_path).stem\n",
    "    image = Image.open(img_path)\n",
    "\n",
    "    inputs = processor(images=image, return_tensors=\"pt\")\n",
    "    outputs = model(**inputs)\n",
    "\n",
    "    features_list[img_name] = outputs.pooler_output.detach().numpy()[0].tolist()"
   ]
  },
  {
   "cell_type": "code",
   "execution_count": 10,
   "metadata": {},
   "outputs": [
    {
     "data": {
      "text/plain": [
       "384"
      ]
     },
     "execution_count": 10,
     "metadata": {},
     "output_type": "execute_result"
    }
   ],
   "source": [
    "n_feats = len(features_list[next(iter(features_list))])\n",
    "n_feats # outputs of the feature extractor for 1 image"
   ]
  },
  {
   "cell_type": "code",
   "execution_count": 23,
   "metadata": {},
   "outputs": [],
   "source": [
    "concat_feats = {}\n",
    "\n",
    "for i in range(1, len(features_list.keys())//4 + 1):\n",
    "    \n",
    "    feats_bathroom = features_list[f\"{i}_bathroom\"]\n",
    "    feats_bedroom = features_list[f\"{i}_bedroom\"]\n",
    "    feats_frontal = features_list[f\"{i}_frontal\"]\n",
    "    feats_kitchen = features_list[f\"{i}_kitchen\"]\n",
    "\n",
    "    feats_house = feats_bathroom + feats_bedroom + feats_frontal + feats_kitchen\n",
    "\n",
    "    concat_feats[f\"{i}\"] = feats_house\n"
   ]
  },
  {
   "cell_type": "code",
   "execution_count": 24,
   "metadata": {},
   "outputs": [
    {
     "data": {
      "text/html": [
       "<div>\n",
       "<style scoped>\n",
       "    .dataframe tbody tr th:only-of-type {\n",
       "        vertical-align: middle;\n",
       "    }\n",
       "\n",
       "    .dataframe tbody tr th {\n",
       "        vertical-align: top;\n",
       "    }\n",
       "\n",
       "    .dataframe thead th {\n",
       "        text-align: right;\n",
       "    }\n",
       "</style>\n",
       "<table border=\"1\" class=\"dataframe\">\n",
       "  <thead>\n",
       "    <tr style=\"text-align: right;\">\n",
       "      <th></th>\n",
       "      <th>feature_bathroom_0</th>\n",
       "      <th>feature_bathroom_1</th>\n",
       "      <th>feature_bathroom_2</th>\n",
       "      <th>feature_bathroom_3</th>\n",
       "      <th>feature_bathroom_4</th>\n",
       "      <th>feature_bathroom_5</th>\n",
       "      <th>feature_bathroom_6</th>\n",
       "      <th>feature_bathroom_7</th>\n",
       "      <th>feature_bathroom_8</th>\n",
       "      <th>feature_bathroom_9</th>\n",
       "      <th>...</th>\n",
       "      <th>feature_kitchen_374</th>\n",
       "      <th>feature_kitchen_375</th>\n",
       "      <th>feature_kitchen_376</th>\n",
       "      <th>feature_kitchen_377</th>\n",
       "      <th>feature_kitchen_378</th>\n",
       "      <th>feature_kitchen_379</th>\n",
       "      <th>feature_kitchen_380</th>\n",
       "      <th>feature_kitchen_381</th>\n",
       "      <th>feature_kitchen_382</th>\n",
       "      <th>feature_kitchen_383</th>\n",
       "    </tr>\n",
       "  </thead>\n",
       "  <tbody>\n",
       "    <tr>\n",
       "      <th>1</th>\n",
       "      <td>-1.243704</td>\n",
       "      <td>-1.772754</td>\n",
       "      <td>-3.186754</td>\n",
       "      <td>0.699579</td>\n",
       "      <td>1.031860</td>\n",
       "      <td>0.810142</td>\n",
       "      <td>-2.227748</td>\n",
       "      <td>-1.008206</td>\n",
       "      <td>-0.743390</td>\n",
       "      <td>4.437889</td>\n",
       "      <td>...</td>\n",
       "      <td>-3.545532</td>\n",
       "      <td>-3.123297</td>\n",
       "      <td>-0.396790</td>\n",
       "      <td>1.707340</td>\n",
       "      <td>0.784049</td>\n",
       "      <td>2.941013</td>\n",
       "      <td>-0.458862</td>\n",
       "      <td>0.584478</td>\n",
       "      <td>-1.568698</td>\n",
       "      <td>2.720598</td>\n",
       "    </tr>\n",
       "    <tr>\n",
       "      <th>2</th>\n",
       "      <td>-0.053018</td>\n",
       "      <td>-3.214347</td>\n",
       "      <td>-2.203818</td>\n",
       "      <td>0.864004</td>\n",
       "      <td>0.988579</td>\n",
       "      <td>0.206707</td>\n",
       "      <td>0.502917</td>\n",
       "      <td>-0.162865</td>\n",
       "      <td>-1.615324</td>\n",
       "      <td>-2.835781</td>\n",
       "      <td>...</td>\n",
       "      <td>-1.283478</td>\n",
       "      <td>-2.751005</td>\n",
       "      <td>-2.213562</td>\n",
       "      <td>0.125812</td>\n",
       "      <td>3.037429</td>\n",
       "      <td>3.448530</td>\n",
       "      <td>0.357357</td>\n",
       "      <td>-0.413256</td>\n",
       "      <td>0.593026</td>\n",
       "      <td>2.711195</td>\n",
       "    </tr>\n",
       "    <tr>\n",
       "      <th>3</th>\n",
       "      <td>3.096573</td>\n",
       "      <td>-0.463276</td>\n",
       "      <td>-0.735533</td>\n",
       "      <td>2.965535</td>\n",
       "      <td>4.993997</td>\n",
       "      <td>-0.690266</td>\n",
       "      <td>1.441913</td>\n",
       "      <td>1.233468</td>\n",
       "      <td>-0.079709</td>\n",
       "      <td>1.840295</td>\n",
       "      <td>...</td>\n",
       "      <td>-2.954428</td>\n",
       "      <td>-2.435550</td>\n",
       "      <td>0.902314</td>\n",
       "      <td>1.733619</td>\n",
       "      <td>0.719866</td>\n",
       "      <td>1.475144</td>\n",
       "      <td>-2.264857</td>\n",
       "      <td>-2.892963</td>\n",
       "      <td>2.016710</td>\n",
       "      <td>3.454270</td>\n",
       "    </tr>\n",
       "    <tr>\n",
       "      <th>4</th>\n",
       "      <td>1.877792</td>\n",
       "      <td>0.055629</td>\n",
       "      <td>-3.374161</td>\n",
       "      <td>0.510588</td>\n",
       "      <td>-0.143228</td>\n",
       "      <td>0.763390</td>\n",
       "      <td>-0.625588</td>\n",
       "      <td>0.690181</td>\n",
       "      <td>0.820744</td>\n",
       "      <td>0.331675</td>\n",
       "      <td>...</td>\n",
       "      <td>-3.415884</td>\n",
       "      <td>-0.900375</td>\n",
       "      <td>-0.324584</td>\n",
       "      <td>-0.500990</td>\n",
       "      <td>1.680170</td>\n",
       "      <td>2.661343</td>\n",
       "      <td>-2.340659</td>\n",
       "      <td>-1.237085</td>\n",
       "      <td>0.967519</td>\n",
       "      <td>2.166046</td>\n",
       "    </tr>\n",
       "    <tr>\n",
       "      <th>5</th>\n",
       "      <td>0.388964</td>\n",
       "      <td>0.951079</td>\n",
       "      <td>-3.137751</td>\n",
       "      <td>3.305772</td>\n",
       "      <td>1.390780</td>\n",
       "      <td>-0.119016</td>\n",
       "      <td>-2.922689</td>\n",
       "      <td>0.192679</td>\n",
       "      <td>2.058771</td>\n",
       "      <td>1.511701</td>\n",
       "      <td>...</td>\n",
       "      <td>-3.905734</td>\n",
       "      <td>-1.941596</td>\n",
       "      <td>0.717755</td>\n",
       "      <td>-0.050356</td>\n",
       "      <td>-0.613372</td>\n",
       "      <td>2.476581</td>\n",
       "      <td>-3.960444</td>\n",
       "      <td>-1.295066</td>\n",
       "      <td>-2.031260</td>\n",
       "      <td>2.316306</td>\n",
       "    </tr>\n",
       "    <tr>\n",
       "      <th>...</th>\n",
       "      <td>...</td>\n",
       "      <td>...</td>\n",
       "      <td>...</td>\n",
       "      <td>...</td>\n",
       "      <td>...</td>\n",
       "      <td>...</td>\n",
       "      <td>...</td>\n",
       "      <td>...</td>\n",
       "      <td>...</td>\n",
       "      <td>...</td>\n",
       "      <td>...</td>\n",
       "      <td>...</td>\n",
       "      <td>...</td>\n",
       "      <td>...</td>\n",
       "      <td>...</td>\n",
       "      <td>...</td>\n",
       "      <td>...</td>\n",
       "      <td>...</td>\n",
       "      <td>...</td>\n",
       "      <td>...</td>\n",
       "      <td>...</td>\n",
       "    </tr>\n",
       "    <tr>\n",
       "      <th>531</th>\n",
       "      <td>-0.581101</td>\n",
       "      <td>-0.852691</td>\n",
       "      <td>-3.025539</td>\n",
       "      <td>-0.063333</td>\n",
       "      <td>-2.705049</td>\n",
       "      <td>0.636371</td>\n",
       "      <td>-1.483546</td>\n",
       "      <td>1.456032</td>\n",
       "      <td>-1.715731</td>\n",
       "      <td>5.019385</td>\n",
       "      <td>...</td>\n",
       "      <td>-1.766987</td>\n",
       "      <td>-0.769062</td>\n",
       "      <td>2.216708</td>\n",
       "      <td>0.900235</td>\n",
       "      <td>-2.497369</td>\n",
       "      <td>2.073880</td>\n",
       "      <td>-0.515075</td>\n",
       "      <td>-3.682908</td>\n",
       "      <td>3.181040</td>\n",
       "      <td>2.041563</td>\n",
       "    </tr>\n",
       "    <tr>\n",
       "      <th>532</th>\n",
       "      <td>-3.961586</td>\n",
       "      <td>-2.918913</td>\n",
       "      <td>0.366397</td>\n",
       "      <td>-0.836808</td>\n",
       "      <td>1.111586</td>\n",
       "      <td>1.499596</td>\n",
       "      <td>0.459843</td>\n",
       "      <td>0.945250</td>\n",
       "      <td>-1.076800</td>\n",
       "      <td>-0.492162</td>\n",
       "      <td>...</td>\n",
       "      <td>-3.647297</td>\n",
       "      <td>-1.344542</td>\n",
       "      <td>-1.730819</td>\n",
       "      <td>4.493303</td>\n",
       "      <td>-2.552949</td>\n",
       "      <td>0.433233</td>\n",
       "      <td>-2.218506</td>\n",
       "      <td>-3.004898</td>\n",
       "      <td>4.051591</td>\n",
       "      <td>0.820079</td>\n",
       "    </tr>\n",
       "    <tr>\n",
       "      <th>533</th>\n",
       "      <td>0.238295</td>\n",
       "      <td>-0.760861</td>\n",
       "      <td>-3.033177</td>\n",
       "      <td>-0.288528</td>\n",
       "      <td>0.564611</td>\n",
       "      <td>-0.167256</td>\n",
       "      <td>-0.585286</td>\n",
       "      <td>2.139292</td>\n",
       "      <td>1.005459</td>\n",
       "      <td>0.252498</td>\n",
       "      <td>...</td>\n",
       "      <td>-1.528774</td>\n",
       "      <td>-1.150843</td>\n",
       "      <td>4.311346</td>\n",
       "      <td>0.482178</td>\n",
       "      <td>1.521474</td>\n",
       "      <td>1.371088</td>\n",
       "      <td>-1.767406</td>\n",
       "      <td>-3.093935</td>\n",
       "      <td>2.032627</td>\n",
       "      <td>2.288821</td>\n",
       "    </tr>\n",
       "    <tr>\n",
       "      <th>534</th>\n",
       "      <td>-0.822251</td>\n",
       "      <td>-1.684954</td>\n",
       "      <td>-3.472275</td>\n",
       "      <td>-2.765270</td>\n",
       "      <td>3.545403</td>\n",
       "      <td>0.457784</td>\n",
       "      <td>-1.792268</td>\n",
       "      <td>1.087944</td>\n",
       "      <td>4.569839</td>\n",
       "      <td>1.691068</td>\n",
       "      <td>...</td>\n",
       "      <td>-1.762789</td>\n",
       "      <td>-0.296429</td>\n",
       "      <td>1.209146</td>\n",
       "      <td>0.930131</td>\n",
       "      <td>-3.421016</td>\n",
       "      <td>2.070323</td>\n",
       "      <td>-3.084872</td>\n",
       "      <td>-5.015963</td>\n",
       "      <td>0.141147</td>\n",
       "      <td>2.124625</td>\n",
       "    </tr>\n",
       "    <tr>\n",
       "      <th>535</th>\n",
       "      <td>-0.252936</td>\n",
       "      <td>-1.780139</td>\n",
       "      <td>-2.927917</td>\n",
       "      <td>1.040063</td>\n",
       "      <td>1.685630</td>\n",
       "      <td>1.164808</td>\n",
       "      <td>-0.974169</td>\n",
       "      <td>0.289467</td>\n",
       "      <td>0.448514</td>\n",
       "      <td>1.122059</td>\n",
       "      <td>...</td>\n",
       "      <td>-4.412247</td>\n",
       "      <td>-0.108988</td>\n",
       "      <td>0.604186</td>\n",
       "      <td>0.654626</td>\n",
       "      <td>-0.783151</td>\n",
       "      <td>1.703241</td>\n",
       "      <td>-3.684621</td>\n",
       "      <td>0.475801</td>\n",
       "      <td>-1.305992</td>\n",
       "      <td>3.555804</td>\n",
       "    </tr>\n",
       "  </tbody>\n",
       "</table>\n",
       "<p>535 rows × 1536 columns</p>\n",
       "</div>"
      ],
      "text/plain": [
       "     feature_bathroom_0  feature_bathroom_1  feature_bathroom_2  \\\n",
       "1             -1.243704           -1.772754           -3.186754   \n",
       "2             -0.053018           -3.214347           -2.203818   \n",
       "3              3.096573           -0.463276           -0.735533   \n",
       "4              1.877792            0.055629           -3.374161   \n",
       "5              0.388964            0.951079           -3.137751   \n",
       "..                  ...                 ...                 ...   \n",
       "531           -0.581101           -0.852691           -3.025539   \n",
       "532           -3.961586           -2.918913            0.366397   \n",
       "533            0.238295           -0.760861           -3.033177   \n",
       "534           -0.822251           -1.684954           -3.472275   \n",
       "535           -0.252936           -1.780139           -2.927917   \n",
       "\n",
       "     feature_bathroom_3  feature_bathroom_4  feature_bathroom_5  \\\n",
       "1              0.699579            1.031860            0.810142   \n",
       "2              0.864004            0.988579            0.206707   \n",
       "3              2.965535            4.993997           -0.690266   \n",
       "4              0.510588           -0.143228            0.763390   \n",
       "5              3.305772            1.390780           -0.119016   \n",
       "..                  ...                 ...                 ...   \n",
       "531           -0.063333           -2.705049            0.636371   \n",
       "532           -0.836808            1.111586            1.499596   \n",
       "533           -0.288528            0.564611           -0.167256   \n",
       "534           -2.765270            3.545403            0.457784   \n",
       "535            1.040063            1.685630            1.164808   \n",
       "\n",
       "     feature_bathroom_6  feature_bathroom_7  feature_bathroom_8  \\\n",
       "1             -2.227748           -1.008206           -0.743390   \n",
       "2              0.502917           -0.162865           -1.615324   \n",
       "3              1.441913            1.233468           -0.079709   \n",
       "4             -0.625588            0.690181            0.820744   \n",
       "5             -2.922689            0.192679            2.058771   \n",
       "..                  ...                 ...                 ...   \n",
       "531           -1.483546            1.456032           -1.715731   \n",
       "532            0.459843            0.945250           -1.076800   \n",
       "533           -0.585286            2.139292            1.005459   \n",
       "534           -1.792268            1.087944            4.569839   \n",
       "535           -0.974169            0.289467            0.448514   \n",
       "\n",
       "     feature_bathroom_9  ...  feature_kitchen_374  feature_kitchen_375  \\\n",
       "1              4.437889  ...            -3.545532            -3.123297   \n",
       "2             -2.835781  ...            -1.283478            -2.751005   \n",
       "3              1.840295  ...            -2.954428            -2.435550   \n",
       "4              0.331675  ...            -3.415884            -0.900375   \n",
       "5              1.511701  ...            -3.905734            -1.941596   \n",
       "..                  ...  ...                  ...                  ...   \n",
       "531            5.019385  ...            -1.766987            -0.769062   \n",
       "532           -0.492162  ...            -3.647297            -1.344542   \n",
       "533            0.252498  ...            -1.528774            -1.150843   \n",
       "534            1.691068  ...            -1.762789            -0.296429   \n",
       "535            1.122059  ...            -4.412247            -0.108988   \n",
       "\n",
       "     feature_kitchen_376  feature_kitchen_377  feature_kitchen_378  \\\n",
       "1              -0.396790             1.707340             0.784049   \n",
       "2              -2.213562             0.125812             3.037429   \n",
       "3               0.902314             1.733619             0.719866   \n",
       "4              -0.324584            -0.500990             1.680170   \n",
       "5               0.717755            -0.050356            -0.613372   \n",
       "..                   ...                  ...                  ...   \n",
       "531             2.216708             0.900235            -2.497369   \n",
       "532            -1.730819             4.493303            -2.552949   \n",
       "533             4.311346             0.482178             1.521474   \n",
       "534             1.209146             0.930131            -3.421016   \n",
       "535             0.604186             0.654626            -0.783151   \n",
       "\n",
       "     feature_kitchen_379  feature_kitchen_380  feature_kitchen_381  \\\n",
       "1               2.941013            -0.458862             0.584478   \n",
       "2               3.448530             0.357357            -0.413256   \n",
       "3               1.475144            -2.264857            -2.892963   \n",
       "4               2.661343            -2.340659            -1.237085   \n",
       "5               2.476581            -3.960444            -1.295066   \n",
       "..                   ...                  ...                  ...   \n",
       "531             2.073880            -0.515075            -3.682908   \n",
       "532             0.433233            -2.218506            -3.004898   \n",
       "533             1.371088            -1.767406            -3.093935   \n",
       "534             2.070323            -3.084872            -5.015963   \n",
       "535             1.703241            -3.684621             0.475801   \n",
       "\n",
       "     feature_kitchen_382  feature_kitchen_383  \n",
       "1              -1.568698             2.720598  \n",
       "2               0.593026             2.711195  \n",
       "3               2.016710             3.454270  \n",
       "4               0.967519             2.166046  \n",
       "5              -2.031260             2.316306  \n",
       "..                   ...                  ...  \n",
       "531             3.181040             2.041563  \n",
       "532             4.051591             0.820079  \n",
       "533             2.032627             2.288821  \n",
       "534             0.141147             2.124625  \n",
       "535            -1.305992             3.555804  \n",
       "\n",
       "[535 rows x 1536 columns]"
      ]
     },
     "execution_count": 24,
     "metadata": {},
     "output_type": "execute_result"
    }
   ],
   "source": [
    "rooms = [\"bathroom\", \"bedroom\", \"frontal\", \"kitchen\"]\n",
    "\n",
    "features_df = pd.DataFrame.from_dict(concat_feats, orient='index', columns=[\n",
    "    f\"feature_{rooms[i//n_feats]}_{i%n_feats}\" \n",
    "    for i in range(len(concat_feats[next(iter(concat_feats))\n",
    "]))])\n",
    "features_df"
   ]
  },
  {
   "cell_type": "code",
   "execution_count": 25,
   "metadata": {},
   "outputs": [],
   "source": [
    "df_name = \"img_x4_features_dataset_dinoV2_small.csv\"\n",
    "\n",
    "features_df.to_csv(features_dataset_out_folder / df_name, index=True)"
   ]
  },
  {
   "cell_type": "markdown",
   "metadata": {},
   "source": [
    "#### ORB"
   ]
  },
  {
   "cell_type": "code",
   "execution_count": 13,
   "metadata": {},
   "outputs": [
    {
     "name": "stderr",
     "output_type": "stream",
     "text": [
      "2141it [00:31, 68.76it/s] \n"
     ]
    }
   ],
   "source": [
    "features_list = {}\n",
    "\n",
    "for img_path in tqdm(img_dataset_path.iterdir()):\n",
    "\n",
    "    if img_path.suffix != \".jpg\":\n",
    "        continue\n",
    "\n",
    "    img_name = Path(img_path).stem\n",
    "    image = cv2.imread(img_path, cv2.IMREAD_GRAYSCALE)\n",
    "\n",
    "    equalized_image = cv2.equalizeHist(image)\n",
    "\n",
    "    # Get key points\n",
    "    orb = cv2.ORB_create()\n",
    "    keypoints, decriptors = orb.detectAndCompute(equalized_image, None)\n",
    "\n",
    "    # Sort key points\n",
    "    sorted_kp = [(kp, descr, kp.response) for kp, descr in zip(keypoints, decriptors)]\n",
    "    sorted_kp.sort(key= lambda x: x[2], reverse=True)\n",
    "\n",
    "    # Save sorted descriptors\n",
    "    features_list[img_name] = [kp[1] for kp in sorted_kp[:15]]"
   ]
  },
  {
   "cell_type": "code",
   "execution_count": 14,
   "metadata": {},
   "outputs": [
    {
     "data": {
      "text/plain": [
       "[array([104, 145,  53, 207, 233,  84,  79, 189,  67,  91, 237,  80, 210,\n",
       "        119, 172, 244,  85, 150,  58, 106, 219,  10, 251, 181,  39, 190,\n",
       "        212,  92,  18, 138, 196, 112], dtype=uint8),\n",
       " array([ 38, 164, 168, 235, 221, 253, 216,  75,  91,  57, 125,  25, 146,\n",
       "        157,  94,  56, 217,  26, 147,  17, 150,  58, 250, 147,  15, 221,\n",
       "        145, 125, 209,  74, 222, 130], dtype=uint8),\n",
       " array([166, 120, 240, 203, 253, 215, 250, 200,  95, 249, 117,   2,  88,\n",
       "        220, 253,  40, 217,  88, 147, 211, 131, 118, 126, 242,  15,  93,\n",
       "        135, 238, 221, 191, 112, 151], dtype=uint8),\n",
       " array([109, 216,  53,  73, 109, 223,  74, 184, 207, 121, 166,  72, 218,\n",
       "         54, 188, 246, 197,  84,  58, 106, 219,  12, 249, 181,  47, 254,\n",
       "        193, 124,  26, 171, 200,  36], dtype=uint8),\n",
       " array([ 36,  52, 185, 225, 244, 109, 235, 218,  90, 239,  57,  25, 147,\n",
       "        157,  93,   8, 221,  24,  23,  24, 154,  54, 248,  18,  77, 157,\n",
       "         49, 124, 209,  75,  86, 243], dtype=uint8),\n",
       " array([143, 210,  98, 187, 244, 165, 171, 216,  94,  73,  85, 215, 217,\n",
       "        204, 127, 104, 255,   9,  19, 223, 150, 182,  14, 247,  76,  93,\n",
       "        171, 204,  23, 159,  49, 213], dtype=uint8),\n",
       " array([213, 215,  27, 230, 182,  38,  95, 245,  20, 168, 223,  98,  87,\n",
       "        123, 184,  96, 246, 119,  29, 235, 249, 147,   8, 142, 240, 237,\n",
       "        175, 132,  52, 250, 177,  33], dtype=uint8),\n",
       " array([216,  76, 206, 189,   4,  10,  76,  54,  36, 162, 214, 130, 243,\n",
       "         35, 129,  91, 106, 228, 108, 202, 108, 157, 197,  40, 240, 227,\n",
       "        242,  17,  45, 248, 120,   8], dtype=uint8),\n",
       " array([194, 159, 150, 176, 169, 178,  20,   7, 159, 159, 138, 245, 142,\n",
       "        170,  98, 207, 197, 119, 233,  17,  60, 203, 194, 194, 136, 246,\n",
       "         94,  95, 136,  76, 173,  31], dtype=uint8),\n",
       " array([ 94, 165, 158, 176, 141,  98,  20,  71, 163, 159, 138,  17,  12,\n",
       "        187, 106,  90, 225, 215, 233, 144,  60, 203, 130, 194, 219, 247,\n",
       "        223,  95, 130,  68, 172,   2], dtype=uint8),\n",
       " array([102, 120, 251, 214, 111, 116, 159, 130, 171, 206, 189, 175, 140,\n",
       "        252,  87,  58, 143, 245, 245, 195, 132,  99, 250, 224,  83, 125,\n",
       "        207, 187, 199, 119, 119, 247], dtype=uint8),\n",
       " array([201,  10, 150, 183,  36, 184, 104,  18, 252, 130,  82, 224, 255,\n",
       "        226, 177, 203, 230, 103, 108,  76, 168, 212, 135, 170, 132, 255,\n",
       "        122, 128,  44, 241,  41,   9], dtype=uint8),\n",
       " array([107, 241, 226,  70, 230,  20, 255, 189, 105, 192, 124, 174, 121,\n",
       "        253, 223, 182,  62, 222,  53, 207, 193, 114, 188, 192, 126, 125,\n",
       "        164, 168, 103, 182, 242, 253], dtype=uint8),\n",
       " array([ 94, 164, 158, 176, 141, 102, 116,  71, 163, 151, 143,  19,  76,\n",
       "        191, 106,  91, 225, 151, 249, 177,  60, 199, 147, 194, 219, 231,\n",
       "        223,  71, 162,  96, 173,   2], dtype=uint8),\n",
       " array([ 53, 107, 197,  67, 188,  27,  78, 152,  71, 168, 186,  68, 211,\n",
       "         64, 221, 228,  88, 196,  78, 126, 203, 176, 109,  24, 174, 220,\n",
       "        165, 180, 255, 187,  80,  36], dtype=uint8)]"
      ]
     },
     "execution_count": 14,
     "metadata": {},
     "output_type": "execute_result"
    }
   ],
   "source": [
    "features_list[\"100_bathroom\"]"
   ]
  },
  {
   "cell_type": "code",
   "execution_count": 15,
   "metadata": {},
   "outputs": [
    {
     "data": {
      "text/plain": [
       "15"
      ]
     },
     "execution_count": 15,
     "metadata": {},
     "output_type": "execute_result"
    }
   ],
   "source": [
    "n_feats = len(features_list[next(iter(features_list))])\n",
    "n_feats"
   ]
  },
  {
   "cell_type": "markdown",
   "metadata": {},
   "source": [
    "## Image Features Selection"
   ]
  },
  {
   "cell_type": "markdown",
   "metadata": {},
   "source": [
    "Only keep images features the most corralated with the Price"
   ]
  },
  {
   "cell_type": "code",
   "execution_count": 26,
   "metadata": {},
   "outputs": [],
   "source": [
    "features_image_path = Path(\"./data/img_x4_features_dataset_dinoV2_small.csv\")\n",
    "global_df_path = Path(\"./data/global_df.csv\")"
   ]
  },
  {
   "cell_type": "code",
   "execution_count": 27,
   "metadata": {},
   "outputs": [],
   "source": [
    "features_dataset = pd.read_csv(features_image_path, index_col=0)\n",
    "global_df_dataset = pd.read_csv(global_df_path, index_col=0)"
   ]
  },
  {
   "cell_type": "code",
   "execution_count": 29,
   "metadata": {},
   "outputs": [],
   "source": [
    "# img_txt_dataset = pd.merge(global_df_augm_dataset, features_dataset, left_on=\"ID_augm\", right_index=True) # For Augmentated dataset\n",
    "img_txt_dataset = pd.merge(global_df_dataset, features_dataset, left_index=True, right_index=True)\n",
    "assert img_txt_dataset.shape[0] == 535"
   ]
  },
  {
   "cell_type": "code",
   "execution_count": 30,
   "metadata": {},
   "outputs": [
    {
     "data": {
      "text/plain": [
       "Price                   1.000000\n",
       "feature_kitchen_243     0.410741\n",
       "feature_kitchen_372     0.385930\n",
       "feature_kitchen_181     0.384160\n",
       "feature_kitchen_262     0.378102\n",
       "                          ...   \n",
       "feature_bathroom_138    0.001102\n",
       "feature_frontal_156     0.000833\n",
       "feature_bathroom_249    0.000819\n",
       "feature_frontal_150     0.000386\n",
       "feature_kitchen_207     0.000373\n",
       "Name: Price, Length: 1537, dtype: float64"
      ]
     },
     "execution_count": 30,
     "metadata": {},
     "output_type": "execute_result"
    }
   ],
   "source": [
    "cols_to_keep = [col for col in img_txt_dataset.columns if col==\"Price\" or col.startswith(\"feature_\")]\n",
    "correlations = img_txt_dataset[cols_to_keep].corr()['Price'].abs()\n",
    "sorted_features = correlations.sort_values(ascending=False)\n",
    "sorted_features"
   ]
  },
  {
   "cell_type": "code",
   "execution_count": 31,
   "metadata": {},
   "outputs": [],
   "source": [
    "sorted_features_dataset = features_dataset[sorted_features.index.drop(\"Price\")]"
   ]
  },
  {
   "cell_type": "code",
   "execution_count": 32,
   "metadata": {},
   "outputs": [],
   "source": [
    "sorted_features_dataset.to_csv(f\"{str(features_image_path).replace('_features', '_IMPORTANT_features')}\", index=True)"
   ]
  },
  {
   "cell_type": "markdown",
   "metadata": {},
   "source": [
    "plot correlation matrix"
   ]
  },
  {
   "cell_type": "code",
   "execution_count": 135,
   "metadata": {},
   "outputs": [
    {
     "ename": "KeyboardInterrupt",
     "evalue": "",
     "output_type": "error",
     "traceback": [
      "\u001b[1;31m---------------------------------------------------------------------------\u001b[0m",
      "\u001b[1;31mKeyboardInterrupt\u001b[0m                         Traceback (most recent call last)",
      "Cell \u001b[1;32mIn[135], line 6\u001b[0m\n\u001b[0;32m      4\u001b[0m sns\u001b[38;5;241m.\u001b[39mheatmap(correlation_matrix, annot\u001b[38;5;241m=\u001b[39m\u001b[38;5;28;01mTrue\u001b[39;00m, cmap\u001b[38;5;241m=\u001b[39m\u001b[38;5;124m'\u001b[39m\u001b[38;5;124mcoolwarm\u001b[39m\u001b[38;5;124m'\u001b[39m, fmt\u001b[38;5;241m=\u001b[39m\u001b[38;5;124m\"\u001b[39m\u001b[38;5;124m.2f\u001b[39m\u001b[38;5;124m\"\u001b[39m)\n\u001b[0;32m      5\u001b[0m plt\u001b[38;5;241m.\u001b[39mtitle(\u001b[38;5;124m\"\u001b[39m\u001b[38;5;124mCorrelation Matrix\u001b[39m\u001b[38;5;124m\"\u001b[39m)\n\u001b[1;32m----> 6\u001b[0m \u001b[43mplt\u001b[49m\u001b[38;5;241;43m.\u001b[39;49m\u001b[43mshow\u001b[49m\u001b[43m(\u001b[49m\u001b[43m)\u001b[49m\n",
      "File \u001b[1;32mc:\\Users\\fmore\\anaconda3\\envs\\envnestedai\\Lib\\site-packages\\matplotlib\\pyplot.py:612\u001b[0m, in \u001b[0;36mshow\u001b[1;34m(*args, **kwargs)\u001b[0m\n\u001b[0;32m    568\u001b[0m \u001b[38;5;250m\u001b[39m\u001b[38;5;124;03m\"\"\"\u001b[39;00m\n\u001b[0;32m    569\u001b[0m \u001b[38;5;124;03mDisplay all open figures.\u001b[39;00m\n\u001b[0;32m    570\u001b[0m \n\u001b[1;32m   (...)\u001b[0m\n\u001b[0;32m    609\u001b[0m \u001b[38;5;124;03mexplicitly there.\u001b[39;00m\n\u001b[0;32m    610\u001b[0m \u001b[38;5;124;03m\"\"\"\u001b[39;00m\n\u001b[0;32m    611\u001b[0m _warn_if_gui_out_of_main_thread()\n\u001b[1;32m--> 612\u001b[0m \u001b[38;5;28;01mreturn\u001b[39;00m \u001b[43m_get_backend_mod\u001b[49m\u001b[43m(\u001b[49m\u001b[43m)\u001b[49m\u001b[38;5;241;43m.\u001b[39;49m\u001b[43mshow\u001b[49m\u001b[43m(\u001b[49m\u001b[38;5;241;43m*\u001b[39;49m\u001b[43margs\u001b[49m\u001b[43m,\u001b[49m\u001b[43m \u001b[49m\u001b[38;5;241;43m*\u001b[39;49m\u001b[38;5;241;43m*\u001b[39;49m\u001b[43mkwargs\u001b[49m\u001b[43m)\u001b[49m\n",
      "File \u001b[1;32mc:\\Users\\fmore\\anaconda3\\envs\\envnestedai\\Lib\\site-packages\\matplotlib_inline\\backend_inline.py:90\u001b[0m, in \u001b[0;36mshow\u001b[1;34m(close, block)\u001b[0m\n\u001b[0;32m     88\u001b[0m \u001b[38;5;28;01mtry\u001b[39;00m:\n\u001b[0;32m     89\u001b[0m     \u001b[38;5;28;01mfor\u001b[39;00m figure_manager \u001b[38;5;129;01min\u001b[39;00m Gcf\u001b[38;5;241m.\u001b[39mget_all_fig_managers():\n\u001b[1;32m---> 90\u001b[0m         \u001b[43mdisplay\u001b[49m\u001b[43m(\u001b[49m\n\u001b[0;32m     91\u001b[0m \u001b[43m            \u001b[49m\u001b[43mfigure_manager\u001b[49m\u001b[38;5;241;43m.\u001b[39;49m\u001b[43mcanvas\u001b[49m\u001b[38;5;241;43m.\u001b[39;49m\u001b[43mfigure\u001b[49m\u001b[43m,\u001b[49m\n\u001b[0;32m     92\u001b[0m \u001b[43m            \u001b[49m\u001b[43mmetadata\u001b[49m\u001b[38;5;241;43m=\u001b[39;49m\u001b[43m_fetch_figure_metadata\u001b[49m\u001b[43m(\u001b[49m\u001b[43mfigure_manager\u001b[49m\u001b[38;5;241;43m.\u001b[39;49m\u001b[43mcanvas\u001b[49m\u001b[38;5;241;43m.\u001b[39;49m\u001b[43mfigure\u001b[49m\u001b[43m)\u001b[49m\n\u001b[0;32m     93\u001b[0m \u001b[43m        \u001b[49m\u001b[43m)\u001b[49m\n\u001b[0;32m     94\u001b[0m \u001b[38;5;28;01mfinally\u001b[39;00m:\n\u001b[0;32m     95\u001b[0m     show\u001b[38;5;241m.\u001b[39m_to_draw \u001b[38;5;241m=\u001b[39m []\n",
      "File \u001b[1;32mc:\\Users\\fmore\\anaconda3\\envs\\envnestedai\\Lib\\site-packages\\IPython\\core\\display_functions.py:298\u001b[0m, in \u001b[0;36mdisplay\u001b[1;34m(include, exclude, metadata, transient, display_id, raw, clear, *objs, **kwargs)\u001b[0m\n\u001b[0;32m    296\u001b[0m     publish_display_data(data\u001b[38;5;241m=\u001b[39mobj, metadata\u001b[38;5;241m=\u001b[39mmetadata, \u001b[38;5;241m*\u001b[39m\u001b[38;5;241m*\u001b[39mkwargs)\n\u001b[0;32m    297\u001b[0m \u001b[38;5;28;01melse\u001b[39;00m:\n\u001b[1;32m--> 298\u001b[0m     format_dict, md_dict \u001b[38;5;241m=\u001b[39m \u001b[38;5;28;43mformat\u001b[39;49m\u001b[43m(\u001b[49m\u001b[43mobj\u001b[49m\u001b[43m,\u001b[49m\u001b[43m \u001b[49m\u001b[43minclude\u001b[49m\u001b[38;5;241;43m=\u001b[39;49m\u001b[43minclude\u001b[49m\u001b[43m,\u001b[49m\u001b[43m \u001b[49m\u001b[43mexclude\u001b[49m\u001b[38;5;241;43m=\u001b[39;49m\u001b[43mexclude\u001b[49m\u001b[43m)\u001b[49m\n\u001b[0;32m    299\u001b[0m     \u001b[38;5;28;01mif\u001b[39;00m \u001b[38;5;129;01mnot\u001b[39;00m format_dict:\n\u001b[0;32m    300\u001b[0m         \u001b[38;5;66;03m# nothing to display (e.g. _ipython_display_ took over)\u001b[39;00m\n\u001b[0;32m    301\u001b[0m         \u001b[38;5;28;01mcontinue\u001b[39;00m\n",
      "File \u001b[1;32mc:\\Users\\fmore\\anaconda3\\envs\\envnestedai\\Lib\\site-packages\\IPython\\core\\formatters.py:238\u001b[0m, in \u001b[0;36mDisplayFormatter.format\u001b[1;34m(self, obj, include, exclude)\u001b[0m\n\u001b[0;32m    236\u001b[0m md \u001b[38;5;241m=\u001b[39m \u001b[38;5;28;01mNone\u001b[39;00m\n\u001b[0;32m    237\u001b[0m \u001b[38;5;28;01mtry\u001b[39;00m:\n\u001b[1;32m--> 238\u001b[0m     data \u001b[38;5;241m=\u001b[39m \u001b[43mformatter\u001b[49m\u001b[43m(\u001b[49m\u001b[43mobj\u001b[49m\u001b[43m)\u001b[49m\n\u001b[0;32m    239\u001b[0m \u001b[38;5;28;01mexcept\u001b[39;00m:\n\u001b[0;32m    240\u001b[0m     \u001b[38;5;66;03m# FIXME: log the exception\u001b[39;00m\n\u001b[0;32m    241\u001b[0m     \u001b[38;5;28;01mraise\u001b[39;00m\n",
      "File \u001b[1;32mc:\\Users\\fmore\\anaconda3\\envs\\envnestedai\\Lib\\site-packages\\decorator.py:232\u001b[0m, in \u001b[0;36mdecorate.<locals>.fun\u001b[1;34m(*args, **kw)\u001b[0m\n\u001b[0;32m    230\u001b[0m \u001b[38;5;28;01mif\u001b[39;00m \u001b[38;5;129;01mnot\u001b[39;00m kwsyntax:\n\u001b[0;32m    231\u001b[0m     args, kw \u001b[38;5;241m=\u001b[39m fix(args, kw, sig)\n\u001b[1;32m--> 232\u001b[0m \u001b[38;5;28;01mreturn\u001b[39;00m \u001b[43mcaller\u001b[49m\u001b[43m(\u001b[49m\u001b[43mfunc\u001b[49m\u001b[43m,\u001b[49m\u001b[43m \u001b[49m\u001b[38;5;241;43m*\u001b[39;49m\u001b[43m(\u001b[49m\u001b[43mextras\u001b[49m\u001b[43m \u001b[49m\u001b[38;5;241;43m+\u001b[39;49m\u001b[43m \u001b[49m\u001b[43margs\u001b[49m\u001b[43m)\u001b[49m\u001b[43m,\u001b[49m\u001b[43m \u001b[49m\u001b[38;5;241;43m*\u001b[39;49m\u001b[38;5;241;43m*\u001b[39;49m\u001b[43mkw\u001b[49m\u001b[43m)\u001b[49m\n",
      "File \u001b[1;32mc:\\Users\\fmore\\anaconda3\\envs\\envnestedai\\Lib\\site-packages\\IPython\\core\\formatters.py:282\u001b[0m, in \u001b[0;36mcatch_format_error\u001b[1;34m(method, self, *args, **kwargs)\u001b[0m\n\u001b[0;32m    280\u001b[0m \u001b[38;5;250m\u001b[39m\u001b[38;5;124;03m\"\"\"show traceback on failed format call\"\"\"\u001b[39;00m\n\u001b[0;32m    281\u001b[0m \u001b[38;5;28;01mtry\u001b[39;00m:\n\u001b[1;32m--> 282\u001b[0m     r \u001b[38;5;241m=\u001b[39m \u001b[43mmethod\u001b[49m\u001b[43m(\u001b[49m\u001b[38;5;28;43mself\u001b[39;49m\u001b[43m,\u001b[49m\u001b[43m \u001b[49m\u001b[38;5;241;43m*\u001b[39;49m\u001b[43margs\u001b[49m\u001b[43m,\u001b[49m\u001b[43m \u001b[49m\u001b[38;5;241;43m*\u001b[39;49m\u001b[38;5;241;43m*\u001b[39;49m\u001b[43mkwargs\u001b[49m\u001b[43m)\u001b[49m\n\u001b[0;32m    283\u001b[0m \u001b[38;5;28;01mexcept\u001b[39;00m \u001b[38;5;167;01mNotImplementedError\u001b[39;00m:\n\u001b[0;32m    284\u001b[0m     \u001b[38;5;66;03m# don't warn on NotImplementedErrors\u001b[39;00m\n\u001b[0;32m    285\u001b[0m     \u001b[38;5;28;01mreturn\u001b[39;00m \u001b[38;5;28mself\u001b[39m\u001b[38;5;241m.\u001b[39m_check_return(\u001b[38;5;28;01mNone\u001b[39;00m, args[\u001b[38;5;241m0\u001b[39m])\n",
      "File \u001b[1;32mc:\\Users\\fmore\\anaconda3\\envs\\envnestedai\\Lib\\site-packages\\IPython\\core\\formatters.py:402\u001b[0m, in \u001b[0;36mBaseFormatter.__call__\u001b[1;34m(self, obj)\u001b[0m\n\u001b[0;32m    400\u001b[0m     \u001b[38;5;28;01mpass\u001b[39;00m\n\u001b[0;32m    401\u001b[0m \u001b[38;5;28;01melse\u001b[39;00m:\n\u001b[1;32m--> 402\u001b[0m     \u001b[38;5;28;01mreturn\u001b[39;00m \u001b[43mprinter\u001b[49m\u001b[43m(\u001b[49m\u001b[43mobj\u001b[49m\u001b[43m)\u001b[49m\n\u001b[0;32m    403\u001b[0m \u001b[38;5;66;03m# Finally look for special method names\u001b[39;00m\n\u001b[0;32m    404\u001b[0m method \u001b[38;5;241m=\u001b[39m get_real_method(obj, \u001b[38;5;28mself\u001b[39m\u001b[38;5;241m.\u001b[39mprint_method)\n",
      "File \u001b[1;32mc:\\Users\\fmore\\anaconda3\\envs\\envnestedai\\Lib\\site-packages\\IPython\\core\\pylabtools.py:170\u001b[0m, in \u001b[0;36mprint_figure\u001b[1;34m(fig, fmt, bbox_inches, base64, **kwargs)\u001b[0m\n\u001b[0;32m    167\u001b[0m     \u001b[38;5;28;01mfrom\u001b[39;00m \u001b[38;5;21;01mmatplotlib\u001b[39;00m\u001b[38;5;21;01m.\u001b[39;00m\u001b[38;5;21;01mbackend_bases\u001b[39;00m \u001b[38;5;28;01mimport\u001b[39;00m FigureCanvasBase\n\u001b[0;32m    168\u001b[0m     FigureCanvasBase(fig)\n\u001b[1;32m--> 170\u001b[0m \u001b[43mfig\u001b[49m\u001b[38;5;241;43m.\u001b[39;49m\u001b[43mcanvas\u001b[49m\u001b[38;5;241;43m.\u001b[39;49m\u001b[43mprint_figure\u001b[49m\u001b[43m(\u001b[49m\u001b[43mbytes_io\u001b[49m\u001b[43m,\u001b[49m\u001b[43m \u001b[49m\u001b[38;5;241;43m*\u001b[39;49m\u001b[38;5;241;43m*\u001b[39;49m\u001b[43mkw\u001b[49m\u001b[43m)\u001b[49m\n\u001b[0;32m    171\u001b[0m data \u001b[38;5;241m=\u001b[39m bytes_io\u001b[38;5;241m.\u001b[39mgetvalue()\n\u001b[0;32m    172\u001b[0m \u001b[38;5;28;01mif\u001b[39;00m fmt \u001b[38;5;241m==\u001b[39m \u001b[38;5;124m'\u001b[39m\u001b[38;5;124msvg\u001b[39m\u001b[38;5;124m'\u001b[39m:\n",
      "File \u001b[1;32mc:\\Users\\fmore\\anaconda3\\envs\\envnestedai\\Lib\\site-packages\\matplotlib\\backend_bases.py:2178\u001b[0m, in \u001b[0;36mFigureCanvasBase.print_figure\u001b[1;34m(self, filename, dpi, facecolor, edgecolor, orientation, format, bbox_inches, pad_inches, bbox_extra_artists, backend, **kwargs)\u001b[0m\n\u001b[0;32m   2176\u001b[0m \u001b[38;5;28;01mif\u001b[39;00m bbox_inches:\n\u001b[0;32m   2177\u001b[0m     \u001b[38;5;28;01mif\u001b[39;00m bbox_inches \u001b[38;5;241m==\u001b[39m \u001b[38;5;124m\"\u001b[39m\u001b[38;5;124mtight\u001b[39m\u001b[38;5;124m\"\u001b[39m:\n\u001b[1;32m-> 2178\u001b[0m         bbox_inches \u001b[38;5;241m=\u001b[39m \u001b[38;5;28;43mself\u001b[39;49m\u001b[38;5;241;43m.\u001b[39;49m\u001b[43mfigure\u001b[49m\u001b[38;5;241;43m.\u001b[39;49m\u001b[43mget_tightbbox\u001b[49m\u001b[43m(\u001b[49m\n\u001b[0;32m   2179\u001b[0m \u001b[43m            \u001b[49m\u001b[43mrenderer\u001b[49m\u001b[43m,\u001b[49m\u001b[43m \u001b[49m\u001b[43mbbox_extra_artists\u001b[49m\u001b[38;5;241;43m=\u001b[39;49m\u001b[43mbbox_extra_artists\u001b[49m\u001b[43m)\u001b[49m\n\u001b[0;32m   2180\u001b[0m         \u001b[38;5;28;01mif\u001b[39;00m (\u001b[38;5;28misinstance\u001b[39m(layout_engine, ConstrainedLayoutEngine) \u001b[38;5;129;01mand\u001b[39;00m\n\u001b[0;32m   2181\u001b[0m                 pad_inches \u001b[38;5;241m==\u001b[39m \u001b[38;5;124m\"\u001b[39m\u001b[38;5;124mlayout\u001b[39m\u001b[38;5;124m\"\u001b[39m):\n\u001b[0;32m   2182\u001b[0m             h_pad \u001b[38;5;241m=\u001b[39m layout_engine\u001b[38;5;241m.\u001b[39mget()[\u001b[38;5;124m\"\u001b[39m\u001b[38;5;124mh_pad\u001b[39m\u001b[38;5;124m\"\u001b[39m]\n",
      "File \u001b[1;32mc:\\Users\\fmore\\anaconda3\\envs\\envnestedai\\Lib\\site-packages\\matplotlib\\_api\\deprecation.py:457\u001b[0m, in \u001b[0;36mmake_keyword_only.<locals>.wrapper\u001b[1;34m(*args, **kwargs)\u001b[0m\n\u001b[0;32m    451\u001b[0m \u001b[38;5;28;01mif\u001b[39;00m \u001b[38;5;28mlen\u001b[39m(args) \u001b[38;5;241m>\u001b[39m name_idx:\n\u001b[0;32m    452\u001b[0m     warn_deprecated(\n\u001b[0;32m    453\u001b[0m         since, message\u001b[38;5;241m=\u001b[39m\u001b[38;5;124m\"\u001b[39m\u001b[38;5;124mPassing the \u001b[39m\u001b[38;5;132;01m%(name)s\u001b[39;00m\u001b[38;5;124m \u001b[39m\u001b[38;5;132;01m%(obj_type)s\u001b[39;00m\u001b[38;5;124m \u001b[39m\u001b[38;5;124m\"\u001b[39m\n\u001b[0;32m    454\u001b[0m         \u001b[38;5;124m\"\u001b[39m\u001b[38;5;124mpositionally is deprecated since Matplotlib \u001b[39m\u001b[38;5;132;01m%(since)s\u001b[39;00m\u001b[38;5;124m; the \u001b[39m\u001b[38;5;124m\"\u001b[39m\n\u001b[0;32m    455\u001b[0m         \u001b[38;5;124m\"\u001b[39m\u001b[38;5;124mparameter will become keyword-only \u001b[39m\u001b[38;5;132;01m%(removal)s\u001b[39;00m\u001b[38;5;124m.\u001b[39m\u001b[38;5;124m\"\u001b[39m,\n\u001b[0;32m    456\u001b[0m         name\u001b[38;5;241m=\u001b[39mname, obj_type\u001b[38;5;241m=\u001b[39m\u001b[38;5;124mf\u001b[39m\u001b[38;5;124m\"\u001b[39m\u001b[38;5;124mparameter of \u001b[39m\u001b[38;5;132;01m{\u001b[39;00mfunc\u001b[38;5;241m.\u001b[39m\u001b[38;5;18m__name__\u001b[39m\u001b[38;5;132;01m}\u001b[39;00m\u001b[38;5;124m()\u001b[39m\u001b[38;5;124m\"\u001b[39m)\n\u001b[1;32m--> 457\u001b[0m \u001b[38;5;28;01mreturn\u001b[39;00m \u001b[43mfunc\u001b[49m\u001b[43m(\u001b[49m\u001b[38;5;241;43m*\u001b[39;49m\u001b[43margs\u001b[49m\u001b[43m,\u001b[49m\u001b[43m \u001b[49m\u001b[38;5;241;43m*\u001b[39;49m\u001b[38;5;241;43m*\u001b[39;49m\u001b[43mkwargs\u001b[49m\u001b[43m)\u001b[49m\n",
      "File \u001b[1;32mc:\\Users\\fmore\\anaconda3\\envs\\envnestedai\\Lib\\site-packages\\matplotlib\\figure.py:1787\u001b[0m, in \u001b[0;36mFigureBase.get_tightbbox\u001b[1;34m(self, renderer, bbox_extra_artists)\u001b[0m\n\u001b[0;32m   1783\u001b[0m \u001b[38;5;28;01mif\u001b[39;00m ax\u001b[38;5;241m.\u001b[39mget_visible():\n\u001b[0;32m   1784\u001b[0m     \u001b[38;5;66;03m# some Axes don't take the bbox_extra_artists kwarg so we\u001b[39;00m\n\u001b[0;32m   1785\u001b[0m     \u001b[38;5;66;03m# need this conditional....\u001b[39;00m\n\u001b[0;32m   1786\u001b[0m     \u001b[38;5;28;01mtry\u001b[39;00m:\n\u001b[1;32m-> 1787\u001b[0m         bbox \u001b[38;5;241m=\u001b[39m \u001b[43max\u001b[49m\u001b[38;5;241;43m.\u001b[39;49m\u001b[43mget_tightbbox\u001b[49m\u001b[43m(\u001b[49m\n\u001b[0;32m   1788\u001b[0m \u001b[43m            \u001b[49m\u001b[43mrenderer\u001b[49m\u001b[43m,\u001b[49m\u001b[43m \u001b[49m\u001b[43mbbox_extra_artists\u001b[49m\u001b[38;5;241;43m=\u001b[39;49m\u001b[43mbbox_extra_artists\u001b[49m\u001b[43m)\u001b[49m\n\u001b[0;32m   1789\u001b[0m     \u001b[38;5;28;01mexcept\u001b[39;00m \u001b[38;5;167;01mTypeError\u001b[39;00m:\n\u001b[0;32m   1790\u001b[0m         bbox \u001b[38;5;241m=\u001b[39m ax\u001b[38;5;241m.\u001b[39mget_tightbbox(renderer)\n",
      "File \u001b[1;32mc:\\Users\\fmore\\anaconda3\\envs\\envnestedai\\Lib\\site-packages\\matplotlib\\_api\\deprecation.py:457\u001b[0m, in \u001b[0;36mmake_keyword_only.<locals>.wrapper\u001b[1;34m(*args, **kwargs)\u001b[0m\n\u001b[0;32m    451\u001b[0m \u001b[38;5;28;01mif\u001b[39;00m \u001b[38;5;28mlen\u001b[39m(args) \u001b[38;5;241m>\u001b[39m name_idx:\n\u001b[0;32m    452\u001b[0m     warn_deprecated(\n\u001b[0;32m    453\u001b[0m         since, message\u001b[38;5;241m=\u001b[39m\u001b[38;5;124m\"\u001b[39m\u001b[38;5;124mPassing the \u001b[39m\u001b[38;5;132;01m%(name)s\u001b[39;00m\u001b[38;5;124m \u001b[39m\u001b[38;5;132;01m%(obj_type)s\u001b[39;00m\u001b[38;5;124m \u001b[39m\u001b[38;5;124m\"\u001b[39m\n\u001b[0;32m    454\u001b[0m         \u001b[38;5;124m\"\u001b[39m\u001b[38;5;124mpositionally is deprecated since Matplotlib \u001b[39m\u001b[38;5;132;01m%(since)s\u001b[39;00m\u001b[38;5;124m; the \u001b[39m\u001b[38;5;124m\"\u001b[39m\n\u001b[0;32m    455\u001b[0m         \u001b[38;5;124m\"\u001b[39m\u001b[38;5;124mparameter will become keyword-only \u001b[39m\u001b[38;5;132;01m%(removal)s\u001b[39;00m\u001b[38;5;124m.\u001b[39m\u001b[38;5;124m\"\u001b[39m,\n\u001b[0;32m    456\u001b[0m         name\u001b[38;5;241m=\u001b[39mname, obj_type\u001b[38;5;241m=\u001b[39m\u001b[38;5;124mf\u001b[39m\u001b[38;5;124m\"\u001b[39m\u001b[38;5;124mparameter of \u001b[39m\u001b[38;5;132;01m{\u001b[39;00mfunc\u001b[38;5;241m.\u001b[39m\u001b[38;5;18m__name__\u001b[39m\u001b[38;5;132;01m}\u001b[39;00m\u001b[38;5;124m()\u001b[39m\u001b[38;5;124m\"\u001b[39m)\n\u001b[1;32m--> 457\u001b[0m \u001b[38;5;28;01mreturn\u001b[39;00m \u001b[43mfunc\u001b[49m\u001b[43m(\u001b[49m\u001b[38;5;241;43m*\u001b[39;49m\u001b[43margs\u001b[49m\u001b[43m,\u001b[49m\u001b[43m \u001b[49m\u001b[38;5;241;43m*\u001b[39;49m\u001b[38;5;241;43m*\u001b[39;49m\u001b[43mkwargs\u001b[49m\u001b[43m)\u001b[49m\n",
      "File \u001b[1;32mc:\\Users\\fmore\\anaconda3\\envs\\envnestedai\\Lib\\site-packages\\matplotlib\\axes\\_base.py:4499\u001b[0m, in \u001b[0;36m_AxesBase.get_tightbbox\u001b[1;34m(self, renderer, call_axes_locator, bbox_extra_artists, for_layout_only)\u001b[0m\n\u001b[0;32m   4496\u001b[0m     bbox_artists \u001b[38;5;241m=\u001b[39m \u001b[38;5;28mself\u001b[39m\u001b[38;5;241m.\u001b[39mget_default_bbox_extra_artists()\n\u001b[0;32m   4498\u001b[0m \u001b[38;5;28;01mfor\u001b[39;00m a \u001b[38;5;129;01min\u001b[39;00m bbox_artists:\n\u001b[1;32m-> 4499\u001b[0m     bbox \u001b[38;5;241m=\u001b[39m \u001b[43ma\u001b[49m\u001b[38;5;241;43m.\u001b[39;49m\u001b[43mget_tightbbox\u001b[49m\u001b[43m(\u001b[49m\u001b[43mrenderer\u001b[49m\u001b[43m)\u001b[49m\n\u001b[0;32m   4500\u001b[0m     \u001b[38;5;28;01mif\u001b[39;00m (bbox \u001b[38;5;129;01mis\u001b[39;00m \u001b[38;5;129;01mnot\u001b[39;00m \u001b[38;5;28;01mNone\u001b[39;00m\n\u001b[0;32m   4501\u001b[0m             \u001b[38;5;129;01mand\u001b[39;00m \u001b[38;5;241m0\u001b[39m \u001b[38;5;241m<\u001b[39m bbox\u001b[38;5;241m.\u001b[39mwidth \u001b[38;5;241m<\u001b[39m np\u001b[38;5;241m.\u001b[39minf\n\u001b[0;32m   4502\u001b[0m             \u001b[38;5;129;01mand\u001b[39;00m \u001b[38;5;241m0\u001b[39m \u001b[38;5;241m<\u001b[39m bbox\u001b[38;5;241m.\u001b[39mheight \u001b[38;5;241m<\u001b[39m np\u001b[38;5;241m.\u001b[39minf):\n\u001b[0;32m   4503\u001b[0m         bb\u001b[38;5;241m.\u001b[39mappend(bbox)\n",
      "File \u001b[1;32mc:\\Users\\fmore\\anaconda3\\envs\\envnestedai\\Lib\\site-packages\\matplotlib\\artist.py:365\u001b[0m, in \u001b[0;36mArtist.get_tightbbox\u001b[1;34m(self, renderer)\u001b[0m\n\u001b[0;32m    349\u001b[0m \u001b[38;5;28;01mdef\u001b[39;00m \u001b[38;5;21mget_tightbbox\u001b[39m(\u001b[38;5;28mself\u001b[39m, renderer\u001b[38;5;241m=\u001b[39m\u001b[38;5;28;01mNone\u001b[39;00m):\n\u001b[0;32m    350\u001b[0m \u001b[38;5;250m    \u001b[39m\u001b[38;5;124;03m\"\"\"\u001b[39;00m\n\u001b[0;32m    351\u001b[0m \u001b[38;5;124;03m    Like `.Artist.get_window_extent`, but includes any clipping.\u001b[39;00m\n\u001b[0;32m    352\u001b[0m \n\u001b[1;32m   (...)\u001b[0m\n\u001b[0;32m    363\u001b[0m \u001b[38;5;124;03m        Returns None if clipping results in no intersection.\u001b[39;00m\n\u001b[0;32m    364\u001b[0m \u001b[38;5;124;03m    \"\"\"\u001b[39;00m\n\u001b[1;32m--> 365\u001b[0m     bbox \u001b[38;5;241m=\u001b[39m \u001b[38;5;28;43mself\u001b[39;49m\u001b[38;5;241;43m.\u001b[39;49m\u001b[43mget_window_extent\u001b[49m\u001b[43m(\u001b[49m\u001b[43mrenderer\u001b[49m\u001b[43m)\u001b[49m\n\u001b[0;32m    366\u001b[0m     \u001b[38;5;28;01mif\u001b[39;00m \u001b[38;5;28mself\u001b[39m\u001b[38;5;241m.\u001b[39mget_clip_on():\n\u001b[0;32m    367\u001b[0m         clip_box \u001b[38;5;241m=\u001b[39m \u001b[38;5;28mself\u001b[39m\u001b[38;5;241m.\u001b[39mget_clip_box()\n",
      "File \u001b[1;32mc:\\Users\\fmore\\anaconda3\\envs\\envnestedai\\Lib\\site-packages\\matplotlib\\text.py:961\u001b[0m, in \u001b[0;36mText.get_window_extent\u001b[1;34m(self, renderer, dpi)\u001b[0m\n\u001b[0;32m    959\u001b[0m bbox, info, descent \u001b[38;5;241m=\u001b[39m \u001b[38;5;28mself\u001b[39m\u001b[38;5;241m.\u001b[39m_get_layout(\u001b[38;5;28mself\u001b[39m\u001b[38;5;241m.\u001b[39m_renderer)\n\u001b[0;32m    960\u001b[0m x, y \u001b[38;5;241m=\u001b[39m \u001b[38;5;28mself\u001b[39m\u001b[38;5;241m.\u001b[39mget_unitless_position()\n\u001b[1;32m--> 961\u001b[0m x, y \u001b[38;5;241m=\u001b[39m \u001b[38;5;28;43mself\u001b[39;49m\u001b[38;5;241;43m.\u001b[39;49m\u001b[43mget_transform\u001b[49m\u001b[43m(\u001b[49m\u001b[43m)\u001b[49m\u001b[38;5;241;43m.\u001b[39;49m\u001b[43mtransform\u001b[49m\u001b[43m(\u001b[49m\u001b[43m(\u001b[49m\u001b[43mx\u001b[49m\u001b[43m,\u001b[49m\u001b[43m \u001b[49m\u001b[43my\u001b[49m\u001b[43m)\u001b[49m\u001b[43m)\u001b[49m\n\u001b[0;32m    962\u001b[0m bbox \u001b[38;5;241m=\u001b[39m bbox\u001b[38;5;241m.\u001b[39mtranslated(x, y)\n\u001b[0;32m    963\u001b[0m \u001b[38;5;28;01mreturn\u001b[39;00m bbox\n",
      "File \u001b[1;32mc:\\Users\\fmore\\anaconda3\\envs\\envnestedai\\Lib\\site-packages\\matplotlib\\transforms.py:1505\u001b[0m, in \u001b[0;36mTransform.transform\u001b[1;34m(self, values)\u001b[0m\n\u001b[0;32m   1502\u001b[0m values \u001b[38;5;241m=\u001b[39m values\u001b[38;5;241m.\u001b[39mreshape((\u001b[38;5;241m-\u001b[39m\u001b[38;5;241m1\u001b[39m, \u001b[38;5;28mself\u001b[39m\u001b[38;5;241m.\u001b[39minput_dims))\n\u001b[0;32m   1504\u001b[0m \u001b[38;5;66;03m# Transform the values\u001b[39;00m\n\u001b[1;32m-> 1505\u001b[0m res \u001b[38;5;241m=\u001b[39m \u001b[38;5;28;43mself\u001b[39;49m\u001b[38;5;241;43m.\u001b[39;49m\u001b[43mtransform_affine\u001b[49m\u001b[43m(\u001b[49m\u001b[38;5;28;43mself\u001b[39;49m\u001b[38;5;241;43m.\u001b[39;49m\u001b[43mtransform_non_affine\u001b[49m\u001b[43m(\u001b[49m\u001b[43mvalues\u001b[49m\u001b[43m)\u001b[49m\u001b[43m)\u001b[49m\n\u001b[0;32m   1507\u001b[0m \u001b[38;5;66;03m# Convert the result back to the shape of the input values.\u001b[39;00m\n\u001b[0;32m   1508\u001b[0m \u001b[38;5;28;01mif\u001b[39;00m ndim \u001b[38;5;241m==\u001b[39m \u001b[38;5;241m0\u001b[39m:\n",
      "File \u001b[1;32mc:\\Users\\fmore\\anaconda3\\envs\\envnestedai\\Lib\\site-packages\\matplotlib\\_api\\deprecation.py:300\u001b[0m, in \u001b[0;36mrename_parameter.<locals>.wrapper\u001b[1;34m(*args, **kwargs)\u001b[0m\n\u001b[0;32m    295\u001b[0m     warn_deprecated(\n\u001b[0;32m    296\u001b[0m         since, message\u001b[38;5;241m=\u001b[39m\u001b[38;5;124mf\u001b[39m\u001b[38;5;124m\"\u001b[39m\u001b[38;5;124mThe \u001b[39m\u001b[38;5;132;01m{\u001b[39;00mold\u001b[38;5;132;01m!r}\u001b[39;00m\u001b[38;5;124m parameter of \u001b[39m\u001b[38;5;132;01m{\u001b[39;00mfunc\u001b[38;5;241m.\u001b[39m\u001b[38;5;18m__name__\u001b[39m\u001b[38;5;132;01m}\u001b[39;00m\u001b[38;5;124m() \u001b[39m\u001b[38;5;124m\"\u001b[39m\n\u001b[0;32m    297\u001b[0m         \u001b[38;5;124mf\u001b[39m\u001b[38;5;124m\"\u001b[39m\u001b[38;5;124mhas been renamed \u001b[39m\u001b[38;5;132;01m{\u001b[39;00mnew\u001b[38;5;132;01m!r}\u001b[39;00m\u001b[38;5;124m since Matplotlib \u001b[39m\u001b[38;5;132;01m{\u001b[39;00msince\u001b[38;5;132;01m}\u001b[39;00m\u001b[38;5;124m; support \u001b[39m\u001b[38;5;124m\"\u001b[39m\n\u001b[0;32m    298\u001b[0m         \u001b[38;5;124mf\u001b[39m\u001b[38;5;124m\"\u001b[39m\u001b[38;5;124mfor the old name will be dropped %(removal)s.\u001b[39m\u001b[38;5;124m\"\u001b[39m)\n\u001b[0;32m    299\u001b[0m     kwargs[new] \u001b[38;5;241m=\u001b[39m kwargs\u001b[38;5;241m.\u001b[39mpop(old)\n\u001b[1;32m--> 300\u001b[0m \u001b[38;5;28;01mreturn\u001b[39;00m \u001b[43mfunc\u001b[49m\u001b[43m(\u001b[49m\u001b[38;5;241;43m*\u001b[39;49m\u001b[43margs\u001b[49m\u001b[43m,\u001b[49m\u001b[43m \u001b[49m\u001b[38;5;241;43m*\u001b[39;49m\u001b[38;5;241;43m*\u001b[39;49m\u001b[43mkwargs\u001b[49m\u001b[43m)\u001b[49m\n",
      "File \u001b[1;32mc:\\Users\\fmore\\anaconda3\\envs\\envnestedai\\Lib\\site-packages\\matplotlib\\transforms.py:2428\u001b[0m, in \u001b[0;36mCompositeGenericTransform.transform_affine\u001b[1;34m(self, values)\u001b[0m\n\u001b[0;32m   2425\u001b[0m \u001b[38;5;129m@_api\u001b[39m\u001b[38;5;241m.\u001b[39mrename_parameter(\u001b[38;5;124m\"\u001b[39m\u001b[38;5;124m3.8\u001b[39m\u001b[38;5;124m\"\u001b[39m, \u001b[38;5;124m\"\u001b[39m\u001b[38;5;124mpoints\u001b[39m\u001b[38;5;124m\"\u001b[39m, \u001b[38;5;124m\"\u001b[39m\u001b[38;5;124mvalues\u001b[39m\u001b[38;5;124m\"\u001b[39m)\n\u001b[0;32m   2426\u001b[0m \u001b[38;5;28;01mdef\u001b[39;00m \u001b[38;5;21mtransform_affine\u001b[39m(\u001b[38;5;28mself\u001b[39m, values):\n\u001b[0;32m   2427\u001b[0m     \u001b[38;5;66;03m# docstring inherited\u001b[39;00m\n\u001b[1;32m-> 2428\u001b[0m     \u001b[38;5;28;01mreturn\u001b[39;00m \u001b[38;5;28;43mself\u001b[39;49m\u001b[38;5;241;43m.\u001b[39;49m\u001b[43mget_affine\u001b[49m\u001b[43m(\u001b[49m\u001b[43m)\u001b[49m\u001b[38;5;241m.\u001b[39mtransform(values)\n",
      "File \u001b[1;32mc:\\Users\\fmore\\anaconda3\\envs\\envnestedai\\Lib\\site-packages\\matplotlib\\transforms.py:2455\u001b[0m, in \u001b[0;36mCompositeGenericTransform.get_affine\u001b[1;34m(self)\u001b[0m\n\u001b[0;32m   2453\u001b[0m     \u001b[38;5;28;01mreturn\u001b[39;00m \u001b[38;5;28mself\u001b[39m\u001b[38;5;241m.\u001b[39m_b\u001b[38;5;241m.\u001b[39mget_affine()\n\u001b[0;32m   2454\u001b[0m \u001b[38;5;28;01melse\u001b[39;00m:\n\u001b[1;32m-> 2455\u001b[0m     \u001b[38;5;28;01mreturn\u001b[39;00m Affine2D(np\u001b[38;5;241m.\u001b[39mdot(\u001b[38;5;28;43mself\u001b[39;49m\u001b[38;5;241;43m.\u001b[39;49m\u001b[43m_b\u001b[49m\u001b[38;5;241;43m.\u001b[39;49m\u001b[43mget_affine\u001b[49m\u001b[43m(\u001b[49m\u001b[43m)\u001b[49m\u001b[38;5;241m.\u001b[39mget_matrix(),\n\u001b[0;32m   2456\u001b[0m                            \u001b[38;5;28mself\u001b[39m\u001b[38;5;241m.\u001b[39m_a\u001b[38;5;241m.\u001b[39mget_affine()\u001b[38;5;241m.\u001b[39mget_matrix()))\n",
      "File \u001b[1;32mc:\\Users\\fmore\\anaconda3\\envs\\envnestedai\\Lib\\site-packages\\matplotlib\\transforms.py:2455\u001b[0m, in \u001b[0;36mCompositeGenericTransform.get_affine\u001b[1;34m(self)\u001b[0m\n\u001b[0;32m   2453\u001b[0m     \u001b[38;5;28;01mreturn\u001b[39;00m \u001b[38;5;28mself\u001b[39m\u001b[38;5;241m.\u001b[39m_b\u001b[38;5;241m.\u001b[39mget_affine()\n\u001b[0;32m   2454\u001b[0m \u001b[38;5;28;01melse\u001b[39;00m:\n\u001b[1;32m-> 2455\u001b[0m     \u001b[38;5;28;01mreturn\u001b[39;00m Affine2D(\u001b[43mnp\u001b[49m\u001b[38;5;241;43m.\u001b[39;49m\u001b[43mdot\u001b[49m\u001b[43m(\u001b[49m\u001b[38;5;28;43mself\u001b[39;49m\u001b[38;5;241;43m.\u001b[39;49m\u001b[43m_b\u001b[49m\u001b[38;5;241;43m.\u001b[39;49m\u001b[43mget_affine\u001b[49m\u001b[43m(\u001b[49m\u001b[43m)\u001b[49m\u001b[38;5;241;43m.\u001b[39;49m\u001b[43mget_matrix\u001b[49m\u001b[43m(\u001b[49m\u001b[43m)\u001b[49m\u001b[43m,\u001b[49m\n\u001b[0;32m   2456\u001b[0m \u001b[43m                           \u001b[49m\u001b[38;5;28;43mself\u001b[39;49m\u001b[38;5;241;43m.\u001b[39;49m\u001b[43m_a\u001b[49m\u001b[38;5;241;43m.\u001b[39;49m\u001b[43mget_affine\u001b[49m\u001b[43m(\u001b[49m\u001b[43m)\u001b[49m\u001b[38;5;241;43m.\u001b[39;49m\u001b[43mget_matrix\u001b[49m\u001b[43m(\u001b[49m\u001b[43m)\u001b[49m\u001b[43m)\u001b[49m)\n",
      "\u001b[1;31mKeyboardInterrupt\u001b[0m: "
     ]
    }
   ],
   "source": [
    "correlation_matrix = img_txt_dataset[cols_to_keep].corr()\n",
    "\n",
    "plt.figure(figsize=(20, 20))  # Adjust figure size as needed\n",
    "sns.heatmap(correlation_matrix, annot=True, cmap='coolwarm', fmt=\".2f\")\n",
    "plt.title(\"Correlation Matrix\")\n",
    "plt.show()"
   ]
  },
  {
   "cell_type": "markdown",
   "metadata": {},
   "source": [
    "## Text Data Processing"
   ]
  },
  {
   "cell_type": "markdown",
   "metadata": {},
   "source": [
    "### ZIP processing"
   ]
  },
  {
   "cell_type": "code",
   "execution_count": null,
   "metadata": {},
   "outputs": [],
   "source": [
    "uszip = pd.read_csv(uszip_path)"
   ]
  },
  {
   "cell_type": "code",
   "execution_count": 14,
   "metadata": {},
   "outputs": [],
   "source": [
    "usefull_uszip = uszip[uszip[\"zip\"].isin(structured_df[\"Zipcode\"].unique())]\n",
    "cols_to_keep = [\"zip\", \"lat\", \"lng\", \"city\", \"state_id\", \"population\", \"density\", \"county_name\", ]\n",
    "usefull_uszip = usefull_uszip[cols_to_keep]"
   ]
  },
  {
   "cell_type": "code",
   "execution_count": 15,
   "metadata": {},
   "outputs": [],
   "source": [
    "global_df = pd.merge(structured_df, usefull_uszip, left_on=\"Zipcode\", right_on=\"zip\", how=\"left\")"
   ]
  },
  {
   "cell_type": "code",
   "execution_count": 16,
   "metadata": {},
   "outputs": [],
   "source": [
    "# Fill NaN\n",
    "global_df[\"population\"] = global_df[\"population\"].fillna(global_df[\"population\"].median(numeric_only=True))\n",
    "global_df[\"lat\"] = global_df[\"lat\"].fillna(global_df[\"lat\"].mean(numeric_only=True))\n",
    "global_df[\"lng\"] = global_df[\"lng\"].fillna(global_df[\"lng\"].mean(numeric_only=True))\n",
    "global_df[\"density\"] = global_df[\"density\"].fillna(global_df[\"density\"].mean(numeric_only=True))\n",
    "global_df[\"state_id\"] = global_df[\"state_id\"].fillna(\"UNKNOWN\")\n",
    "global_df[\"city\"] = global_df[\"city\"].fillna(\"UNKNOWN\")\n",
    "global_df[\"county_name\"] = global_df[\"county_name\"].fillna(\"UNKNOWN\")"
   ]
  },
  {
   "cell_type": "code",
   "execution_count": 17,
   "metadata": {},
   "outputs": [
    {
     "data": {
      "text/html": [
       "<div>\n",
       "<style scoped>\n",
       "    .dataframe tbody tr th:only-of-type {\n",
       "        vertical-align: middle;\n",
       "    }\n",
       "\n",
       "    .dataframe tbody tr th {\n",
       "        vertical-align: top;\n",
       "    }\n",
       "\n",
       "    .dataframe thead th {\n",
       "        text-align: right;\n",
       "    }\n",
       "</style>\n",
       "<table border=\"1\" class=\"dataframe\">\n",
       "  <thead>\n",
       "    <tr style=\"text-align: right;\">\n",
       "      <th></th>\n",
       "      <th>Number of Bedrooms</th>\n",
       "      <th>Number of bathrooms</th>\n",
       "      <th>Area</th>\n",
       "      <th>Zipcode</th>\n",
       "      <th>Price</th>\n",
       "      <th>zip</th>\n",
       "      <th>lat</th>\n",
       "      <th>lng</th>\n",
       "      <th>city</th>\n",
       "      <th>state_id</th>\n",
       "      <th>population</th>\n",
       "      <th>density</th>\n",
       "      <th>county_name</th>\n",
       "    </tr>\n",
       "  </thead>\n",
       "  <tbody>\n",
       "    <tr>\n",
       "      <th>1</th>\n",
       "      <td>4</td>\n",
       "      <td>4.0</td>\n",
       "      <td>4053</td>\n",
       "      <td>85255</td>\n",
       "      <td>869500</td>\n",
       "      <td>85255.0</td>\n",
       "      <td>33.682400</td>\n",
       "      <td>-111.817700</td>\n",
       "      <td>Scottsdale</td>\n",
       "      <td>AZ</td>\n",
       "      <td>43685.0</td>\n",
       "      <td>191.20000</td>\n",
       "      <td>Maricopa</td>\n",
       "    </tr>\n",
       "    <tr>\n",
       "      <th>2</th>\n",
       "      <td>4</td>\n",
       "      <td>3.0</td>\n",
       "      <td>3343</td>\n",
       "      <td>36372</td>\n",
       "      <td>865200</td>\n",
       "      <td>NaN</td>\n",
       "      <td>35.233552</td>\n",
       "      <td>-116.742111</td>\n",
       "      <td>UNKNOWN</td>\n",
       "      <td>UNKNOWN</td>\n",
       "      <td>18669.0</td>\n",
       "      <td>695.56236</td>\n",
       "      <td>UNKNOWN</td>\n",
       "    </tr>\n",
       "    <tr>\n",
       "      <th>3</th>\n",
       "      <td>3</td>\n",
       "      <td>4.0</td>\n",
       "      <td>3923</td>\n",
       "      <td>85266</td>\n",
       "      <td>889000</td>\n",
       "      <td>85266.0</td>\n",
       "      <td>33.760340</td>\n",
       "      <td>-111.925030</td>\n",
       "      <td>Scottsdale</td>\n",
       "      <td>AZ</td>\n",
       "      <td>12187.0</td>\n",
       "      <td>239.90000</td>\n",
       "      <td>Maricopa</td>\n",
       "    </tr>\n",
       "    <tr>\n",
       "      <th>4</th>\n",
       "      <td>5</td>\n",
       "      <td>5.0</td>\n",
       "      <td>4022</td>\n",
       "      <td>85262</td>\n",
       "      <td>910000</td>\n",
       "      <td>85262.0</td>\n",
       "      <td>33.858340</td>\n",
       "      <td>-111.801690</td>\n",
       "      <td>Scottsdale</td>\n",
       "      <td>AZ</td>\n",
       "      <td>13126.0</td>\n",
       "      <td>32.70000</td>\n",
       "      <td>Maricopa</td>\n",
       "    </tr>\n",
       "    <tr>\n",
       "      <th>5</th>\n",
       "      <td>3</td>\n",
       "      <td>4.0</td>\n",
       "      <td>4116</td>\n",
       "      <td>85266</td>\n",
       "      <td>971226</td>\n",
       "      <td>85266.0</td>\n",
       "      <td>33.760340</td>\n",
       "      <td>-111.925030</td>\n",
       "      <td>Scottsdale</td>\n",
       "      <td>AZ</td>\n",
       "      <td>12187.0</td>\n",
       "      <td>239.90000</td>\n",
       "      <td>Maricopa</td>\n",
       "    </tr>\n",
       "    <tr>\n",
       "      <th>...</th>\n",
       "      <td>...</td>\n",
       "      <td>...</td>\n",
       "      <td>...</td>\n",
       "      <td>...</td>\n",
       "      <td>...</td>\n",
       "      <td>...</td>\n",
       "      <td>...</td>\n",
       "      <td>...</td>\n",
       "      <td>...</td>\n",
       "      <td>...</td>\n",
       "      <td>...</td>\n",
       "      <td>...</td>\n",
       "      <td>...</td>\n",
       "    </tr>\n",
       "    <tr>\n",
       "      <th>531</th>\n",
       "      <td>5</td>\n",
       "      <td>2.0</td>\n",
       "      <td>2066</td>\n",
       "      <td>94531</td>\n",
       "      <td>399900</td>\n",
       "      <td>94531.0</td>\n",
       "      <td>37.956650</td>\n",
       "      <td>-121.777770</td>\n",
       "      <td>Antioch</td>\n",
       "      <td>CA</td>\n",
       "      <td>44115.0</td>\n",
       "      <td>1214.20000</td>\n",
       "      <td>Contra Costa</td>\n",
       "    </tr>\n",
       "    <tr>\n",
       "      <th>532</th>\n",
       "      <td>4</td>\n",
       "      <td>3.5</td>\n",
       "      <td>9536</td>\n",
       "      <td>94531</td>\n",
       "      <td>460000</td>\n",
       "      <td>94531.0</td>\n",
       "      <td>37.956650</td>\n",
       "      <td>-121.777770</td>\n",
       "      <td>Antioch</td>\n",
       "      <td>CA</td>\n",
       "      <td>44115.0</td>\n",
       "      <td>1214.20000</td>\n",
       "      <td>Contra Costa</td>\n",
       "    </tr>\n",
       "    <tr>\n",
       "      <th>533</th>\n",
       "      <td>3</td>\n",
       "      <td>2.0</td>\n",
       "      <td>2014</td>\n",
       "      <td>94531</td>\n",
       "      <td>407000</td>\n",
       "      <td>94531.0</td>\n",
       "      <td>37.956650</td>\n",
       "      <td>-121.777770</td>\n",
       "      <td>Antioch</td>\n",
       "      <td>CA</td>\n",
       "      <td>44115.0</td>\n",
       "      <td>1214.20000</td>\n",
       "      <td>Contra Costa</td>\n",
       "    </tr>\n",
       "    <tr>\n",
       "      <th>534</th>\n",
       "      <td>4</td>\n",
       "      <td>3.0</td>\n",
       "      <td>2312</td>\n",
       "      <td>94531</td>\n",
       "      <td>419000</td>\n",
       "      <td>94531.0</td>\n",
       "      <td>37.956650</td>\n",
       "      <td>-121.777770</td>\n",
       "      <td>Antioch</td>\n",
       "      <td>CA</td>\n",
       "      <td>44115.0</td>\n",
       "      <td>1214.20000</td>\n",
       "      <td>Contra Costa</td>\n",
       "    </tr>\n",
       "    <tr>\n",
       "      <th>535</th>\n",
       "      <td>5</td>\n",
       "      <td>3.0</td>\n",
       "      <td>3796</td>\n",
       "      <td>94531</td>\n",
       "      <td>615000</td>\n",
       "      <td>94531.0</td>\n",
       "      <td>37.956650</td>\n",
       "      <td>-121.777770</td>\n",
       "      <td>Antioch</td>\n",
       "      <td>CA</td>\n",
       "      <td>44115.0</td>\n",
       "      <td>1214.20000</td>\n",
       "      <td>Contra Costa</td>\n",
       "    </tr>\n",
       "  </tbody>\n",
       "</table>\n",
       "<p>535 rows × 13 columns</p>\n",
       "</div>"
      ],
      "text/plain": [
       "     Number of Bedrooms  Number of bathrooms  Area  Zipcode   Price      zip  \\\n",
       "1                     4                  4.0  4053    85255  869500  85255.0   \n",
       "2                     4                  3.0  3343    36372  865200      NaN   \n",
       "3                     3                  4.0  3923    85266  889000  85266.0   \n",
       "4                     5                  5.0  4022    85262  910000  85262.0   \n",
       "5                     3                  4.0  4116    85266  971226  85266.0   \n",
       "..                  ...                  ...   ...      ...     ...      ...   \n",
       "531                   5                  2.0  2066    94531  399900  94531.0   \n",
       "532                   4                  3.5  9536    94531  460000  94531.0   \n",
       "533                   3                  2.0  2014    94531  407000  94531.0   \n",
       "534                   4                  3.0  2312    94531  419000  94531.0   \n",
       "535                   5                  3.0  3796    94531  615000  94531.0   \n",
       "\n",
       "           lat         lng        city state_id  population     density  \\\n",
       "1    33.682400 -111.817700  Scottsdale       AZ     43685.0   191.20000   \n",
       "2    35.233552 -116.742111     UNKNOWN  UNKNOWN     18669.0   695.56236   \n",
       "3    33.760340 -111.925030  Scottsdale       AZ     12187.0   239.90000   \n",
       "4    33.858340 -111.801690  Scottsdale       AZ     13126.0    32.70000   \n",
       "5    33.760340 -111.925030  Scottsdale       AZ     12187.0   239.90000   \n",
       "..         ...         ...         ...      ...         ...         ...   \n",
       "531  37.956650 -121.777770     Antioch       CA     44115.0  1214.20000   \n",
       "532  37.956650 -121.777770     Antioch       CA     44115.0  1214.20000   \n",
       "533  37.956650 -121.777770     Antioch       CA     44115.0  1214.20000   \n",
       "534  37.956650 -121.777770     Antioch       CA     44115.0  1214.20000   \n",
       "535  37.956650 -121.777770     Antioch       CA     44115.0  1214.20000   \n",
       "\n",
       "      county_name  \n",
       "1        Maricopa  \n",
       "2         UNKNOWN  \n",
       "3        Maricopa  \n",
       "4        Maricopa  \n",
       "5        Maricopa  \n",
       "..            ...  \n",
       "531  Contra Costa  \n",
       "532  Contra Costa  \n",
       "533  Contra Costa  \n",
       "534  Contra Costa  \n",
       "535  Contra Costa  \n",
       "\n",
       "[535 rows x 13 columns]"
      ]
     },
     "execution_count": 17,
     "metadata": {},
     "output_type": "execute_result"
    }
   ],
   "source": [
    "global_df.index = global_df.index + 1 # because index of images starts by 1\n",
    "global_df"
   ]
  },
  {
   "cell_type": "code",
   "execution_count": 18,
   "metadata": {},
   "outputs": [],
   "source": [
    "global_df.to_csv(\"./data/global_df.csv\")"
   ]
  },
  {
   "cell_type": "markdown",
   "metadata": {},
   "source": [
    "### Index processing"
   ]
  },
  {
   "cell_type": "code",
   "execution_count": 17,
   "metadata": {},
   "outputs": [],
   "source": [
    "global_df[\"ID_augm\"] = global_df.index"
   ]
  },
  {
   "cell_type": "code",
   "execution_count": 18,
   "metadata": {},
   "outputs": [],
   "source": [
    "global_df_1 = global_df.copy()\n",
    "global_df_1[\"ID_augm\"] = global_df_1[\"ID_augm\"].apply(lambda x: str(x+1)+\"_1\")\n",
    "\n",
    "global_df_2 = global_df.copy()\n",
    "global_df_2[\"ID_augm\"] = global_df_2[\"ID_augm\"].apply(lambda x: str(x+1)+\"_2\")"
   ]
  },
  {
   "cell_type": "code",
   "execution_count": 19,
   "metadata": {},
   "outputs": [],
   "source": [
    "global_df_augm = pd.concat([global_df_1, global_df_2], axis=0).set_index(\"ID_augm\")"
   ]
  },
  {
   "cell_type": "code",
   "execution_count": 20,
   "metadata": {},
   "outputs": [
    {
     "data": {
      "text/html": [
       "<div>\n",
       "<style scoped>\n",
       "    .dataframe tbody tr th:only-of-type {\n",
       "        vertical-align: middle;\n",
       "    }\n",
       "\n",
       "    .dataframe tbody tr th {\n",
       "        vertical-align: top;\n",
       "    }\n",
       "\n",
       "    .dataframe thead th {\n",
       "        text-align: right;\n",
       "    }\n",
       "</style>\n",
       "<table border=\"1\" class=\"dataframe\">\n",
       "  <thead>\n",
       "    <tr style=\"text-align: right;\">\n",
       "      <th></th>\n",
       "      <th>Number of Bedrooms</th>\n",
       "      <th>Number of bathrooms</th>\n",
       "      <th>Area</th>\n",
       "      <th>Zipcode</th>\n",
       "      <th>Price</th>\n",
       "      <th>zip</th>\n",
       "      <th>lat</th>\n",
       "      <th>lng</th>\n",
       "      <th>city</th>\n",
       "      <th>state_id</th>\n",
       "      <th>population</th>\n",
       "      <th>density</th>\n",
       "      <th>county_name</th>\n",
       "    </tr>\n",
       "    <tr>\n",
       "      <th>ID_augm</th>\n",
       "      <th></th>\n",
       "      <th></th>\n",
       "      <th></th>\n",
       "      <th></th>\n",
       "      <th></th>\n",
       "      <th></th>\n",
       "      <th></th>\n",
       "      <th></th>\n",
       "      <th></th>\n",
       "      <th></th>\n",
       "      <th></th>\n",
       "      <th></th>\n",
       "      <th></th>\n",
       "    </tr>\n",
       "  </thead>\n",
       "  <tbody>\n",
       "    <tr>\n",
       "      <th>1_1</th>\n",
       "      <td>4</td>\n",
       "      <td>4.0</td>\n",
       "      <td>4053</td>\n",
       "      <td>85255</td>\n",
       "      <td>869500</td>\n",
       "      <td>85255.0</td>\n",
       "      <td>33.682400</td>\n",
       "      <td>-111.817700</td>\n",
       "      <td>Scottsdale</td>\n",
       "      <td>AZ</td>\n",
       "      <td>43685.0</td>\n",
       "      <td>191.20000</td>\n",
       "      <td>Maricopa</td>\n",
       "    </tr>\n",
       "    <tr>\n",
       "      <th>2_1</th>\n",
       "      <td>4</td>\n",
       "      <td>3.0</td>\n",
       "      <td>3343</td>\n",
       "      <td>36372</td>\n",
       "      <td>865200</td>\n",
       "      <td>NaN</td>\n",
       "      <td>35.233552</td>\n",
       "      <td>-116.742111</td>\n",
       "      <td>UNKNOWN</td>\n",
       "      <td>UNKNOWN</td>\n",
       "      <td>18669.0</td>\n",
       "      <td>695.56236</td>\n",
       "      <td>UNKNOWN</td>\n",
       "    </tr>\n",
       "    <tr>\n",
       "      <th>3_1</th>\n",
       "      <td>3</td>\n",
       "      <td>4.0</td>\n",
       "      <td>3923</td>\n",
       "      <td>85266</td>\n",
       "      <td>889000</td>\n",
       "      <td>85266.0</td>\n",
       "      <td>33.760340</td>\n",
       "      <td>-111.925030</td>\n",
       "      <td>Scottsdale</td>\n",
       "      <td>AZ</td>\n",
       "      <td>12187.0</td>\n",
       "      <td>239.90000</td>\n",
       "      <td>Maricopa</td>\n",
       "    </tr>\n",
       "    <tr>\n",
       "      <th>4_1</th>\n",
       "      <td>5</td>\n",
       "      <td>5.0</td>\n",
       "      <td>4022</td>\n",
       "      <td>85262</td>\n",
       "      <td>910000</td>\n",
       "      <td>85262.0</td>\n",
       "      <td>33.858340</td>\n",
       "      <td>-111.801690</td>\n",
       "      <td>Scottsdale</td>\n",
       "      <td>AZ</td>\n",
       "      <td>13126.0</td>\n",
       "      <td>32.70000</td>\n",
       "      <td>Maricopa</td>\n",
       "    </tr>\n",
       "    <tr>\n",
       "      <th>5_1</th>\n",
       "      <td>3</td>\n",
       "      <td>4.0</td>\n",
       "      <td>4116</td>\n",
       "      <td>85266</td>\n",
       "      <td>971226</td>\n",
       "      <td>85266.0</td>\n",
       "      <td>33.760340</td>\n",
       "      <td>-111.925030</td>\n",
       "      <td>Scottsdale</td>\n",
       "      <td>AZ</td>\n",
       "      <td>12187.0</td>\n",
       "      <td>239.90000</td>\n",
       "      <td>Maricopa</td>\n",
       "    </tr>\n",
       "    <tr>\n",
       "      <th>...</th>\n",
       "      <td>...</td>\n",
       "      <td>...</td>\n",
       "      <td>...</td>\n",
       "      <td>...</td>\n",
       "      <td>...</td>\n",
       "      <td>...</td>\n",
       "      <td>...</td>\n",
       "      <td>...</td>\n",
       "      <td>...</td>\n",
       "      <td>...</td>\n",
       "      <td>...</td>\n",
       "      <td>...</td>\n",
       "      <td>...</td>\n",
       "    </tr>\n",
       "    <tr>\n",
       "      <th>531_2</th>\n",
       "      <td>5</td>\n",
       "      <td>2.0</td>\n",
       "      <td>2066</td>\n",
       "      <td>94531</td>\n",
       "      <td>399900</td>\n",
       "      <td>94531.0</td>\n",
       "      <td>37.956650</td>\n",
       "      <td>-121.777770</td>\n",
       "      <td>Antioch</td>\n",
       "      <td>CA</td>\n",
       "      <td>44115.0</td>\n",
       "      <td>1214.20000</td>\n",
       "      <td>Contra Costa</td>\n",
       "    </tr>\n",
       "    <tr>\n",
       "      <th>532_2</th>\n",
       "      <td>4</td>\n",
       "      <td>3.5</td>\n",
       "      <td>9536</td>\n",
       "      <td>94531</td>\n",
       "      <td>460000</td>\n",
       "      <td>94531.0</td>\n",
       "      <td>37.956650</td>\n",
       "      <td>-121.777770</td>\n",
       "      <td>Antioch</td>\n",
       "      <td>CA</td>\n",
       "      <td>44115.0</td>\n",
       "      <td>1214.20000</td>\n",
       "      <td>Contra Costa</td>\n",
       "    </tr>\n",
       "    <tr>\n",
       "      <th>533_2</th>\n",
       "      <td>3</td>\n",
       "      <td>2.0</td>\n",
       "      <td>2014</td>\n",
       "      <td>94531</td>\n",
       "      <td>407000</td>\n",
       "      <td>94531.0</td>\n",
       "      <td>37.956650</td>\n",
       "      <td>-121.777770</td>\n",
       "      <td>Antioch</td>\n",
       "      <td>CA</td>\n",
       "      <td>44115.0</td>\n",
       "      <td>1214.20000</td>\n",
       "      <td>Contra Costa</td>\n",
       "    </tr>\n",
       "    <tr>\n",
       "      <th>534_2</th>\n",
       "      <td>4</td>\n",
       "      <td>3.0</td>\n",
       "      <td>2312</td>\n",
       "      <td>94531</td>\n",
       "      <td>419000</td>\n",
       "      <td>94531.0</td>\n",
       "      <td>37.956650</td>\n",
       "      <td>-121.777770</td>\n",
       "      <td>Antioch</td>\n",
       "      <td>CA</td>\n",
       "      <td>44115.0</td>\n",
       "      <td>1214.20000</td>\n",
       "      <td>Contra Costa</td>\n",
       "    </tr>\n",
       "    <tr>\n",
       "      <th>535_2</th>\n",
       "      <td>5</td>\n",
       "      <td>3.0</td>\n",
       "      <td>3796</td>\n",
       "      <td>94531</td>\n",
       "      <td>615000</td>\n",
       "      <td>94531.0</td>\n",
       "      <td>37.956650</td>\n",
       "      <td>-121.777770</td>\n",
       "      <td>Antioch</td>\n",
       "      <td>CA</td>\n",
       "      <td>44115.0</td>\n",
       "      <td>1214.20000</td>\n",
       "      <td>Contra Costa</td>\n",
       "    </tr>\n",
       "  </tbody>\n",
       "</table>\n",
       "<p>1070 rows × 13 columns</p>\n",
       "</div>"
      ],
      "text/plain": [
       "         Number of Bedrooms  Number of bathrooms  Area  Zipcode   Price  \\\n",
       "ID_augm                                                                   \n",
       "1_1                       4                  4.0  4053    85255  869500   \n",
       "2_1                       4                  3.0  3343    36372  865200   \n",
       "3_1                       3                  4.0  3923    85266  889000   \n",
       "4_1                       5                  5.0  4022    85262  910000   \n",
       "5_1                       3                  4.0  4116    85266  971226   \n",
       "...                     ...                  ...   ...      ...     ...   \n",
       "531_2                     5                  2.0  2066    94531  399900   \n",
       "532_2                     4                  3.5  9536    94531  460000   \n",
       "533_2                     3                  2.0  2014    94531  407000   \n",
       "534_2                     4                  3.0  2312    94531  419000   \n",
       "535_2                     5                  3.0  3796    94531  615000   \n",
       "\n",
       "             zip        lat         lng        city state_id  population  \\\n",
       "ID_augm                                                                    \n",
       "1_1      85255.0  33.682400 -111.817700  Scottsdale       AZ     43685.0   \n",
       "2_1          NaN  35.233552 -116.742111     UNKNOWN  UNKNOWN     18669.0   \n",
       "3_1      85266.0  33.760340 -111.925030  Scottsdale       AZ     12187.0   \n",
       "4_1      85262.0  33.858340 -111.801690  Scottsdale       AZ     13126.0   \n",
       "5_1      85266.0  33.760340 -111.925030  Scottsdale       AZ     12187.0   \n",
       "...          ...        ...         ...         ...      ...         ...   \n",
       "531_2    94531.0  37.956650 -121.777770     Antioch       CA     44115.0   \n",
       "532_2    94531.0  37.956650 -121.777770     Antioch       CA     44115.0   \n",
       "533_2    94531.0  37.956650 -121.777770     Antioch       CA     44115.0   \n",
       "534_2    94531.0  37.956650 -121.777770     Antioch       CA     44115.0   \n",
       "535_2    94531.0  37.956650 -121.777770     Antioch       CA     44115.0   \n",
       "\n",
       "            density   county_name  \n",
       "ID_augm                            \n",
       "1_1       191.20000      Maricopa  \n",
       "2_1       695.56236       UNKNOWN  \n",
       "3_1       239.90000      Maricopa  \n",
       "4_1        32.70000      Maricopa  \n",
       "5_1       239.90000      Maricopa  \n",
       "...             ...           ...  \n",
       "531_2    1214.20000  Contra Costa  \n",
       "532_2    1214.20000  Contra Costa  \n",
       "533_2    1214.20000  Contra Costa  \n",
       "534_2    1214.20000  Contra Costa  \n",
       "535_2    1214.20000  Contra Costa  \n",
       "\n",
       "[1070 rows x 13 columns]"
      ]
     },
     "execution_count": 20,
     "metadata": {},
     "output_type": "execute_result"
    }
   ],
   "source": [
    "global_df_augm"
   ]
  },
  {
   "cell_type": "code",
   "execution_count": 21,
   "metadata": {},
   "outputs": [],
   "source": [
    "global_df_augm.to_csv(\"./data/global_df_augm.csv\", index=True)"
   ]
  },
  {
   "cell_type": "markdown",
   "metadata": {},
   "source": [
    "### Categorical variables encoding"
   ]
  },
  {
   "cell_type": "code",
   "execution_count": null,
   "metadata": {},
   "outputs": [],
   "source": [
    "global_df[\"city\"].value_counts()"
   ]
  },
  {
   "cell_type": "code",
   "execution_count": null,
   "metadata": {},
   "outputs": [],
   "source": [
    "encoder = OneHotEncoder(sparse_output=False, max_categories=14)\n",
    "\n",
    "one_hot_encoded = encoder.fit_transform(global_df[[\"city\"]])\n",
    "one_hot_city_df = pd.DataFrame(one_hot_encoded, columns=encoder.get_feature_names_out())\n",
    "\n",
    "processed_global_df = pd.concat([\n",
    "    global_df.drop(columns=[\"city\", \"state_id\", \"county_name\", \"Zipcode\", \"zip\", \"lat\", \"lng\"]),\n",
    "    one_hot_city_df\n",
    "], axis=1)"
   ]
  },
  {
   "cell_type": "code",
   "execution_count": null,
   "metadata": {},
   "outputs": [],
   "source": [
    "processed_global_df"
   ]
  },
  {
   "cell_type": "markdown",
   "metadata": {},
   "source": [
    "### Save dataset"
   ]
  },
  {
   "cell_type": "code",
   "execution_count": 37,
   "metadata": {},
   "outputs": [],
   "source": [
    "dataset = global_df.drop(columns=[\"state_id\", \"county_name\", \"Zipcode\", \"zip\", \"lat\", \"lng\"])\n",
    "\n",
    "Path.mkdir(out_folder, parents=True, exist_ok=True)\n",
    "dataset.to_csv(out_folder / \"dataset.csv\", index=False)"
   ]
  },
  {
   "cell_type": "markdown",
   "metadata": {},
   "source": [
    "## Text Data Visualization"
   ]
  },
  {
   "cell_type": "markdown",
   "metadata": {},
   "source": [
    "### Correlation Matrix"
   ]
  },
  {
   "cell_type": "code",
   "execution_count": 25,
   "metadata": {},
   "outputs": [],
   "source": [
    "dataset = global_df.drop(columns=[\"state_id\", \"county_name\", \"Zipcode\", \"zip\", \"city\"])"
   ]
  },
  {
   "cell_type": "code",
   "execution_count": 26,
   "metadata": {},
   "outputs": [],
   "source": [
    "correlation_matrix = dataset.corr()"
   ]
  },
  {
   "cell_type": "code",
   "execution_count": 27,
   "metadata": {},
   "outputs": [
    {
     "data": {
      "image/png": "[encoded data removed]",
      "text/plain": [
       "<Figure size 800x600 with 2 Axes>"
      ]
     },
     "metadata": {},
     "output_type": "display_data"
    }
   ],
   "source": [
    "plt.figure(figsize=(8, 6))  # Adjust figure size as needed\n",
    "sns.heatmap(correlation_matrix, annot=True, cmap='coolwarm', fmt=\".2f\")\n",
    "plt.title(\"Correlation Matrix\")\n",
    "plt.show()"
   ]
  },
  {
   "cell_type": "markdown",
   "metadata": {},
   "source": [
    "### Data Distributions"
   ]
  },
  {
   "cell_type": "code",
   "execution_count": 10,
   "metadata": {},
   "outputs": [
    {
     "data": {
      "image/png": "[encoded data removed]",
      "text/plain": [
       "<Figure size 640x480 with 1 Axes>"
      ]
     },
     "metadata": {},
     "output_type": "display_data"
    }
   ],
   "source": [
    "plt.hist(structured_df['Price'], bins=40)\n",
    "plt.show()"
   ]
  },
  {
   "cell_type": "code",
   "execution_count": 13,
   "metadata": {},
   "outputs": [
    {
     "data": {
      "text/html": [
       "<div>\n",
       "<style scoped>\n",
       "    .dataframe tbody tr th:only-of-type {\n",
       "        vertical-align: middle;\n",
       "    }\n",
       "\n",
       "    .dataframe tbody tr th {\n",
       "        vertical-align: top;\n",
       "    }\n",
       "\n",
       "    .dataframe thead th {\n",
       "        text-align: right;\n",
       "    }\n",
       "</style>\n",
       "<table border=\"1\" class=\"dataframe\">\n",
       "  <thead>\n",
       "    <tr style=\"text-align: right;\">\n",
       "      <th></th>\n",
       "      <th>Number of Bedrooms</th>\n",
       "      <th>Number of bathrooms</th>\n",
       "      <th>Area</th>\n",
       "      <th>Zipcode</th>\n",
       "      <th>Price</th>\n",
       "    </tr>\n",
       "  </thead>\n",
       "  <tbody>\n",
       "    <tr>\n",
       "      <th>125</th>\n",
       "      <td>6</td>\n",
       "      <td>6.5</td>\n",
       "      <td>7000</td>\n",
       "      <td>92677</td>\n",
       "      <td>3850000</td>\n",
       "    </tr>\n",
       "    <tr>\n",
       "      <th>216</th>\n",
       "      <td>5</td>\n",
       "      <td>4.5</td>\n",
       "      <td>5000</td>\n",
       "      <td>93111</td>\n",
       "      <td>4000000</td>\n",
       "    </tr>\n",
       "    <tr>\n",
       "      <th>421</th>\n",
       "      <td>4</td>\n",
       "      <td>3.0</td>\n",
       "      <td>2454</td>\n",
       "      <td>93510</td>\n",
       "      <td>5858000</td>\n",
       "    </tr>\n",
       "  </tbody>\n",
       "</table>\n",
       "</div>"
      ],
      "text/plain": [
       "     Number of Bedrooms  Number of bathrooms  Area  Zipcode    Price\n",
       "125                   6                  6.5  7000    92677  3850000\n",
       "216                   5                  4.5  5000    93111  4000000\n",
       "421                   4                  3.0  2454    93510  5858000"
      ]
     },
     "execution_count": 13,
     "metadata": {},
     "output_type": "execute_result"
    }
   ],
   "source": [
    "structured_df[structured_df['Price']>3e6]"
   ]
  },
  {
   "cell_type": "code",
   "execution_count": 12,
   "metadata": {},
   "outputs": [
    {
     "data": {
      "image/png": "[encoded data removed]",
      "text/plain": [
       "<Figure size 640x480 with 1 Axes>"
      ]
     },
     "metadata": {},
     "output_type": "display_data"
    }
   ],
   "source": [
    "plt.hist(structured_df['Area'], bins=40)\n",
    "plt.show()"
   ]
  }
 ],
 "metadata": {
  "kernelspec": {
   "display_name": "envnestedai",
   "language": "python",
   "name": "python3"
  },
  "language_info": {
   "codemirror_mode": {
    "name": "ipython",
    "version": 3
   },
   "file_extension": ".py",
   "mimetype": "text/x-python",
   "name": "python",
   "nbconvert_exporter": "python",
   "pygments_lexer": "ipython3",
   "version": "3.11.10"
  }
 },
 "nbformat": 4,
 "nbformat_minor": 2
}
